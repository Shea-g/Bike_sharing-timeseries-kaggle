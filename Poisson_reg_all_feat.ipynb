{
 "cells": [
  {
   "cell_type": "code",
   "execution_count": 1,
   "id": "a4d7c674",
   "metadata": {},
   "outputs": [],
   "source": [
    "import pandas as pd\n",
    "from datetime import datetime\n",
    "import matplotlib.pyplot as plt\n",
    "from sklearn.linear_model import LinearRegression\n",
    "import seaborn as sns\n",
    "import numpy as np\n",
    "\n",
    "\n",
    "from sklearn.compose import ColumnTransformer\n",
    "from sklearn.impute import SimpleImputer\n",
    "from sklearn.preprocessing import OneHotEncoder\n",
    "from sklearn.preprocessing import KBinsDiscretizer\n",
    "from sklearn.preprocessing import MinMaxScaler\n",
    "from sklearn.preprocessing import FunctionTransformer\n",
    "from sklearn.preprocessing import StandardScaler\n",
    "from sklearn.linear_model import LogisticRegression\n",
    "from sklearn.model_selection import train_test_split\n",
    "from sklearn.pipeline import Pipeline, make_pipeline\n",
    "import pandas as pd\n",
    "\n",
    "#https://machinelearningmastery.com/columntransformer-for-numerical-and-categorical-data/"
   ]
  },
  {
   "cell_type": "code",
   "execution_count": 2,
   "id": "2fc8e464",
   "metadata": {},
   "outputs": [],
   "source": [
    "df= pd.read_csv('train.csv', index_col=0, parse_dates=True)"
   ]
  },
  {
   "cell_type": "code",
   "execution_count": 3,
   "id": "507dd87a",
   "metadata": {},
   "outputs": [],
   "source": [
    "df['weekday']=df.index.day_of_week #good predictor probably (recurring things happening per day of week)\n",
    "df['time']=df.index.hour"
   ]
  },
  {
   "cell_type": "code",
   "execution_count": 4,
   "id": "240c5abd",
   "metadata": {},
   "outputs": [
    {
     "data": {
      "text/html": [
       "<div>\n",
       "<style scoped>\n",
       "    .dataframe tbody tr th:only-of-type {\n",
       "        vertical-align: middle;\n",
       "    }\n",
       "\n",
       "    .dataframe tbody tr th {\n",
       "        vertical-align: top;\n",
       "    }\n",
       "\n",
       "    .dataframe thead th {\n",
       "        text-align: right;\n",
       "    }\n",
       "</style>\n",
       "<table border=\"1\" class=\"dataframe\">\n",
       "  <thead>\n",
       "    <tr style=\"text-align: right;\">\n",
       "      <th></th>\n",
       "      <th>season</th>\n",
       "      <th>holiday</th>\n",
       "      <th>workingday</th>\n",
       "      <th>weather</th>\n",
       "      <th>temp</th>\n",
       "      <th>humidity</th>\n",
       "      <th>windspeed</th>\n",
       "      <th>registered</th>\n",
       "      <th>weekday</th>\n",
       "      <th>time</th>\n",
       "    </tr>\n",
       "    <tr>\n",
       "      <th>datetime</th>\n",
       "      <th></th>\n",
       "      <th></th>\n",
       "      <th></th>\n",
       "      <th></th>\n",
       "      <th></th>\n",
       "      <th></th>\n",
       "      <th></th>\n",
       "      <th></th>\n",
       "      <th></th>\n",
       "      <th></th>\n",
       "    </tr>\n",
       "  </thead>\n",
       "  <tbody>\n",
       "    <tr>\n",
       "      <th>2011-01-01 00:00:00</th>\n",
       "      <td>1</td>\n",
       "      <td>0</td>\n",
       "      <td>0</td>\n",
       "      <td>1</td>\n",
       "      <td>9.84</td>\n",
       "      <td>81</td>\n",
       "      <td>0.0000</td>\n",
       "      <td>13</td>\n",
       "      <td>5</td>\n",
       "      <td>0</td>\n",
       "    </tr>\n",
       "    <tr>\n",
       "      <th>2011-01-01 01:00:00</th>\n",
       "      <td>1</td>\n",
       "      <td>0</td>\n",
       "      <td>0</td>\n",
       "      <td>1</td>\n",
       "      <td>9.02</td>\n",
       "      <td>80</td>\n",
       "      <td>0.0000</td>\n",
       "      <td>32</td>\n",
       "      <td>5</td>\n",
       "      <td>1</td>\n",
       "    </tr>\n",
       "    <tr>\n",
       "      <th>2011-01-01 02:00:00</th>\n",
       "      <td>1</td>\n",
       "      <td>0</td>\n",
       "      <td>0</td>\n",
       "      <td>1</td>\n",
       "      <td>9.02</td>\n",
       "      <td>80</td>\n",
       "      <td>0.0000</td>\n",
       "      <td>27</td>\n",
       "      <td>5</td>\n",
       "      <td>2</td>\n",
       "    </tr>\n",
       "    <tr>\n",
       "      <th>2011-01-01 03:00:00</th>\n",
       "      <td>1</td>\n",
       "      <td>0</td>\n",
       "      <td>0</td>\n",
       "      <td>1</td>\n",
       "      <td>9.84</td>\n",
       "      <td>75</td>\n",
       "      <td>0.0000</td>\n",
       "      <td>10</td>\n",
       "      <td>5</td>\n",
       "      <td>3</td>\n",
       "    </tr>\n",
       "    <tr>\n",
       "      <th>2011-01-01 04:00:00</th>\n",
       "      <td>1</td>\n",
       "      <td>0</td>\n",
       "      <td>0</td>\n",
       "      <td>1</td>\n",
       "      <td>9.84</td>\n",
       "      <td>75</td>\n",
       "      <td>0.0000</td>\n",
       "      <td>1</td>\n",
       "      <td>5</td>\n",
       "      <td>4</td>\n",
       "    </tr>\n",
       "    <tr>\n",
       "      <th>...</th>\n",
       "      <td>...</td>\n",
       "      <td>...</td>\n",
       "      <td>...</td>\n",
       "      <td>...</td>\n",
       "      <td>...</td>\n",
       "      <td>...</td>\n",
       "      <td>...</td>\n",
       "      <td>...</td>\n",
       "      <td>...</td>\n",
       "      <td>...</td>\n",
       "    </tr>\n",
       "    <tr>\n",
       "      <th>2012-12-19 19:00:00</th>\n",
       "      <td>4</td>\n",
       "      <td>0</td>\n",
       "      <td>1</td>\n",
       "      <td>1</td>\n",
       "      <td>15.58</td>\n",
       "      <td>50</td>\n",
       "      <td>26.0027</td>\n",
       "      <td>329</td>\n",
       "      <td>2</td>\n",
       "      <td>19</td>\n",
       "    </tr>\n",
       "    <tr>\n",
       "      <th>2012-12-19 20:00:00</th>\n",
       "      <td>4</td>\n",
       "      <td>0</td>\n",
       "      <td>1</td>\n",
       "      <td>1</td>\n",
       "      <td>14.76</td>\n",
       "      <td>57</td>\n",
       "      <td>15.0013</td>\n",
       "      <td>231</td>\n",
       "      <td>2</td>\n",
       "      <td>20</td>\n",
       "    </tr>\n",
       "    <tr>\n",
       "      <th>2012-12-19 21:00:00</th>\n",
       "      <td>4</td>\n",
       "      <td>0</td>\n",
       "      <td>1</td>\n",
       "      <td>1</td>\n",
       "      <td>13.94</td>\n",
       "      <td>61</td>\n",
       "      <td>15.0013</td>\n",
       "      <td>164</td>\n",
       "      <td>2</td>\n",
       "      <td>21</td>\n",
       "    </tr>\n",
       "    <tr>\n",
       "      <th>2012-12-19 22:00:00</th>\n",
       "      <td>4</td>\n",
       "      <td>0</td>\n",
       "      <td>1</td>\n",
       "      <td>1</td>\n",
       "      <td>13.94</td>\n",
       "      <td>61</td>\n",
       "      <td>6.0032</td>\n",
       "      <td>117</td>\n",
       "      <td>2</td>\n",
       "      <td>22</td>\n",
       "    </tr>\n",
       "    <tr>\n",
       "      <th>2012-12-19 23:00:00</th>\n",
       "      <td>4</td>\n",
       "      <td>0</td>\n",
       "      <td>1</td>\n",
       "      <td>1</td>\n",
       "      <td>13.12</td>\n",
       "      <td>66</td>\n",
       "      <td>8.9981</td>\n",
       "      <td>84</td>\n",
       "      <td>2</td>\n",
       "      <td>23</td>\n",
       "    </tr>\n",
       "  </tbody>\n",
       "</table>\n",
       "<p>10886 rows × 10 columns</p>\n",
       "</div>"
      ],
      "text/plain": [
       "                     season  holiday  workingday  weather   temp  humidity  \\\n",
       "datetime                                                                     \n",
       "2011-01-01 00:00:00       1        0           0        1   9.84        81   \n",
       "2011-01-01 01:00:00       1        0           0        1   9.02        80   \n",
       "2011-01-01 02:00:00       1        0           0        1   9.02        80   \n",
       "2011-01-01 03:00:00       1        0           0        1   9.84        75   \n",
       "2011-01-01 04:00:00       1        0           0        1   9.84        75   \n",
       "...                     ...      ...         ...      ...    ...       ...   \n",
       "2012-12-19 19:00:00       4        0           1        1  15.58        50   \n",
       "2012-12-19 20:00:00       4        0           1        1  14.76        57   \n",
       "2012-12-19 21:00:00       4        0           1        1  13.94        61   \n",
       "2012-12-19 22:00:00       4        0           1        1  13.94        61   \n",
       "2012-12-19 23:00:00       4        0           1        1  13.12        66   \n",
       "\n",
       "                     windspeed  registered  weekday  time  \n",
       "datetime                                                   \n",
       "2011-01-01 00:00:00     0.0000          13        5     0  \n",
       "2011-01-01 01:00:00     0.0000          32        5     1  \n",
       "2011-01-01 02:00:00     0.0000          27        5     2  \n",
       "2011-01-01 03:00:00     0.0000          10        5     3  \n",
       "2011-01-01 04:00:00     0.0000           1        5     4  \n",
       "...                        ...         ...      ...   ...  \n",
       "2012-12-19 19:00:00    26.0027         329        2    19  \n",
       "2012-12-19 20:00:00    15.0013         231        2    20  \n",
       "2012-12-19 21:00:00    15.0013         164        2    21  \n",
       "2012-12-19 22:00:00     6.0032         117        2    22  \n",
       "2012-12-19 23:00:00     8.9981          84        2    23  \n",
       "\n",
       "[10886 rows x 10 columns]"
      ]
     },
     "execution_count": 4,
     "metadata": {},
     "output_type": "execute_result"
    }
   ],
   "source": [
    "#df for cas\n",
    "df_reg = df.drop(['count', 'casual', 'atemp'], axis=1) #also drop atemp, multico \n",
    "df_reg"
   ]
  },
  {
   "cell_type": "code",
   "execution_count": 5,
   "id": "a414187a",
   "metadata": {},
   "outputs": [],
   "source": [
    "#interaction features here? humidity, holidaz and weekday?\n"
   ]
  },
  {
   "cell_type": "code",
   "execution_count": 6,
   "id": "58f5e161",
   "metadata": {},
   "outputs": [
    {
     "data": {
      "text/plain": [
       "datetime\n",
       "2011-01-01 00:00:00     13\n",
       "2011-01-01 01:00:00     32\n",
       "2011-01-01 02:00:00     27\n",
       "2011-01-01 03:00:00     10\n",
       "2011-01-01 04:00:00      1\n",
       "                      ... \n",
       "2012-12-19 19:00:00    329\n",
       "2012-12-19 20:00:00    231\n",
       "2012-12-19 21:00:00    164\n",
       "2012-12-19 22:00:00    117\n",
       "2012-12-19 23:00:00     84\n",
       "Name: registered, Length: 10886, dtype: int64"
      ]
     },
     "execution_count": 6,
     "metadata": {},
     "output_type": "execute_result"
    }
   ],
   "source": [
    "X =df_reg[['season', 'holiday', 'workingday', 'weather', 'temp', 'humidity', 'windspeed', 'weekday', 'time']]\n",
    "y= df_reg['registered']\n",
    "y"
   ]
  },
  {
   "cell_type": "code",
   "execution_count": 7,
   "id": "fa8023ff",
   "metadata": {},
   "outputs": [
    {
     "data": {
      "text/plain": [
       "((8164, 9), (2722, 9))"
      ]
     },
     "execution_count": 7,
     "metadata": {},
     "output_type": "execute_result"
    }
   ],
   "source": [
    "from sklearn.model_selection import train_test_split\n",
    "from sklearn.pipeline import Pipeline, make_pipeline\n",
    "#test, train, split\n",
    "X_train, X_test, y_train, y_test = train_test_split(X, y, test_size=0.25, random_state = 10)\n",
    "X_train.shape, X_test.shape"
   ]
  },
  {
   "cell_type": "code",
   "execution_count": 8,
   "id": "b7631d36",
   "metadata": {},
   "outputs": [
    {
     "data": {
      "text/html": [
       "<div>\n",
       "<style scoped>\n",
       "    .dataframe tbody tr th:only-of-type {\n",
       "        vertical-align: middle;\n",
       "    }\n",
       "\n",
       "    .dataframe tbody tr th {\n",
       "        vertical-align: top;\n",
       "    }\n",
       "\n",
       "    .dataframe thead th {\n",
       "        text-align: right;\n",
       "    }\n",
       "</style>\n",
       "<table border=\"1\" class=\"dataframe\">\n",
       "  <thead>\n",
       "    <tr style=\"text-align: right;\">\n",
       "      <th></th>\n",
       "      <th>season</th>\n",
       "      <th>holiday</th>\n",
       "      <th>workingday</th>\n",
       "      <th>weather</th>\n",
       "      <th>temp</th>\n",
       "      <th>humidity</th>\n",
       "      <th>windspeed</th>\n",
       "      <th>weekday</th>\n",
       "      <th>time</th>\n",
       "    </tr>\n",
       "    <tr>\n",
       "      <th>datetime</th>\n",
       "      <th></th>\n",
       "      <th></th>\n",
       "      <th></th>\n",
       "      <th></th>\n",
       "      <th></th>\n",
       "      <th></th>\n",
       "      <th></th>\n",
       "      <th></th>\n",
       "      <th></th>\n",
       "    </tr>\n",
       "  </thead>\n",
       "  <tbody>\n",
       "    <tr>\n",
       "      <th>2012-10-12 09:00:00</th>\n",
       "      <td>4</td>\n",
       "      <td>0</td>\n",
       "      <td>1</td>\n",
       "      <td>1</td>\n",
       "      <td>20.50</td>\n",
       "      <td>39</td>\n",
       "      <td>19.9995</td>\n",
       "      <td>4</td>\n",
       "      <td>9</td>\n",
       "    </tr>\n",
       "    <tr>\n",
       "      <th>2011-09-09 23:00:00</th>\n",
       "      <td>3</td>\n",
       "      <td>0</td>\n",
       "      <td>1</td>\n",
       "      <td>1</td>\n",
       "      <td>25.42</td>\n",
       "      <td>94</td>\n",
       "      <td>6.0032</td>\n",
       "      <td>4</td>\n",
       "      <td>23</td>\n",
       "    </tr>\n",
       "    <tr>\n",
       "      <th>2011-06-08 18:00:00</th>\n",
       "      <td>2</td>\n",
       "      <td>0</td>\n",
       "      <td>1</td>\n",
       "      <td>1</td>\n",
       "      <td>36.90</td>\n",
       "      <td>37</td>\n",
       "      <td>15.0013</td>\n",
       "      <td>2</td>\n",
       "      <td>18</td>\n",
       "    </tr>\n",
       "    <tr>\n",
       "      <th>2011-10-06 01:00:00</th>\n",
       "      <td>4</td>\n",
       "      <td>0</td>\n",
       "      <td>1</td>\n",
       "      <td>1</td>\n",
       "      <td>19.68</td>\n",
       "      <td>63</td>\n",
       "      <td>12.9980</td>\n",
       "      <td>3</td>\n",
       "      <td>1</td>\n",
       "    </tr>\n",
       "    <tr>\n",
       "      <th>2011-10-10 12:00:00</th>\n",
       "      <td>4</td>\n",
       "      <td>1</td>\n",
       "      <td>0</td>\n",
       "      <td>2</td>\n",
       "      <td>28.70</td>\n",
       "      <td>48</td>\n",
       "      <td>6.0032</td>\n",
       "      <td>0</td>\n",
       "      <td>12</td>\n",
       "    </tr>\n",
       "    <tr>\n",
       "      <th>...</th>\n",
       "      <td>...</td>\n",
       "      <td>...</td>\n",
       "      <td>...</td>\n",
       "      <td>...</td>\n",
       "      <td>...</td>\n",
       "      <td>...</td>\n",
       "      <td>...</td>\n",
       "      <td>...</td>\n",
       "      <td>...</td>\n",
       "    </tr>\n",
       "    <tr>\n",
       "      <th>2012-09-13 21:00:00</th>\n",
       "      <td>3</td>\n",
       "      <td>0</td>\n",
       "      <td>1</td>\n",
       "      <td>1</td>\n",
       "      <td>25.42</td>\n",
       "      <td>65</td>\n",
       "      <td>7.0015</td>\n",
       "      <td>3</td>\n",
       "      <td>21</td>\n",
       "    </tr>\n",
       "    <tr>\n",
       "      <th>2012-05-03 04:00:00</th>\n",
       "      <td>2</td>\n",
       "      <td>0</td>\n",
       "      <td>1</td>\n",
       "      <td>2</td>\n",
       "      <td>18.86</td>\n",
       "      <td>88</td>\n",
       "      <td>16.9979</td>\n",
       "      <td>3</td>\n",
       "      <td>4</td>\n",
       "    </tr>\n",
       "    <tr>\n",
       "      <th>2011-04-01 21:00:00</th>\n",
       "      <td>2</td>\n",
       "      <td>0</td>\n",
       "      <td>1</td>\n",
       "      <td>1</td>\n",
       "      <td>13.12</td>\n",
       "      <td>53</td>\n",
       "      <td>8.9981</td>\n",
       "      <td>4</td>\n",
       "      <td>21</td>\n",
       "    </tr>\n",
       "    <tr>\n",
       "      <th>2012-05-03 06:00:00</th>\n",
       "      <td>2</td>\n",
       "      <td>0</td>\n",
       "      <td>1</td>\n",
       "      <td>2</td>\n",
       "      <td>18.86</td>\n",
       "      <td>88</td>\n",
       "      <td>11.0014</td>\n",
       "      <td>3</td>\n",
       "      <td>6</td>\n",
       "    </tr>\n",
       "    <tr>\n",
       "      <th>2011-03-18 14:00:00</th>\n",
       "      <td>1</td>\n",
       "      <td>0</td>\n",
       "      <td>1</td>\n",
       "      <td>1</td>\n",
       "      <td>27.06</td>\n",
       "      <td>39</td>\n",
       "      <td>16.9979</td>\n",
       "      <td>4</td>\n",
       "      <td>14</td>\n",
       "    </tr>\n",
       "  </tbody>\n",
       "</table>\n",
       "<p>8164 rows × 9 columns</p>\n",
       "</div>"
      ],
      "text/plain": [
       "                     season  holiday  workingday  weather   temp  humidity  \\\n",
       "datetime                                                                     \n",
       "2012-10-12 09:00:00       4        0           1        1  20.50        39   \n",
       "2011-09-09 23:00:00       3        0           1        1  25.42        94   \n",
       "2011-06-08 18:00:00       2        0           1        1  36.90        37   \n",
       "2011-10-06 01:00:00       4        0           1        1  19.68        63   \n",
       "2011-10-10 12:00:00       4        1           0        2  28.70        48   \n",
       "...                     ...      ...         ...      ...    ...       ...   \n",
       "2012-09-13 21:00:00       3        0           1        1  25.42        65   \n",
       "2012-05-03 04:00:00       2        0           1        2  18.86        88   \n",
       "2011-04-01 21:00:00       2        0           1        1  13.12        53   \n",
       "2012-05-03 06:00:00       2        0           1        2  18.86        88   \n",
       "2011-03-18 14:00:00       1        0           1        1  27.06        39   \n",
       "\n",
       "                     windspeed  weekday  time  \n",
       "datetime                                       \n",
       "2012-10-12 09:00:00    19.9995        4     9  \n",
       "2011-09-09 23:00:00     6.0032        4    23  \n",
       "2011-06-08 18:00:00    15.0013        2    18  \n",
       "2011-10-06 01:00:00    12.9980        3     1  \n",
       "2011-10-10 12:00:00     6.0032        0    12  \n",
       "...                        ...      ...   ...  \n",
       "2012-09-13 21:00:00     7.0015        3    21  \n",
       "2012-05-03 04:00:00    16.9979        3     4  \n",
       "2011-04-01 21:00:00     8.9981        4    21  \n",
       "2012-05-03 06:00:00    11.0014        3     6  \n",
       "2011-03-18 14:00:00    16.9979        4    14  \n",
       "\n",
       "[8164 rows x 9 columns]"
      ]
     },
     "execution_count": 8,
     "metadata": {},
     "output_type": "execute_result"
    }
   ],
   "source": [
    "X_train"
   ]
  },
  {
   "cell_type": "code",
   "execution_count": 9,
   "id": "52966e8d",
   "metadata": {},
   "outputs": [],
   "source": [
    " # (binning for time)\n",
    "pipe1 = Pipeline([\n",
    "    ('kbins', KBinsDiscretizer(n_bins=6, encode='onehot-dense', strategy='uniform'))\n",
    "])"
   ]
  },
  {
   "cell_type": "code",
   "execution_count": 10,
   "id": "a433a338",
   "metadata": {},
   "outputs": [],
   "source": [
    "#humidity , windspeed, temp\n",
    "\n",
    "pipe2 = Pipeline([('scaler', StandardScaler())])\n"
   ]
  },
  {
   "cell_type": "code",
   "execution_count": 11,
   "id": "55aec974",
   "metadata": {},
   "outputs": [],
   "source": [
    "# feature engineering for categorical\n",
    "pipe3 = Pipeline([('ohe', OneHotEncoder(handle_unknown=\"ignore\"))])"
   ]
  },
  {
   "cell_type": "code",
   "execution_count": 12,
   "id": "8dc5c9cc",
   "metadata": {},
   "outputs": [],
   "source": [
    "trans = ColumnTransformer([\n",
    "    ('pipe1', pipe1, ['time']), \n",
    "    ('pipe2', pipe2, ['humidity', 'windspeed','temp']), \n",
    "    ('pipe3', pipe3,['workingday', 'holiday', 'season', 'weekday'])\n",
    "\n",
    "]) "
   ]
  },
  {
   "cell_type": "code",
   "execution_count": null,
   "id": "1db4c572",
   "metadata": {},
   "outputs": [],
   "source": []
  },
  {
   "cell_type": "code",
   "execution_count": 13,
   "id": "0949dff6",
   "metadata": {},
   "outputs": [],
   "source": [
    "from sklearn.linear_model import PoissonRegressor\n",
    "#first poisson because timeseries "
   ]
  },
  {
   "cell_type": "code",
   "execution_count": 14,
   "id": "2c048902",
   "metadata": {},
   "outputs": [],
   "source": [
    "model= PoissonRegressor()"
   ]
  },
  {
   "cell_type": "code",
   "execution_count": 15,
   "id": "375a14de",
   "metadata": {},
   "outputs": [],
   "source": [
    "#pipeline with col transformer and Lasso #lasso:  ['mylasso', Lasso(max_iter=5000)]\n",
    "pipe5 = Pipeline(steps=[\n",
    "    ('trans', trans), \n",
    "    ('model', PoissonRegressor(alpha=1, max_iter=1000))\n",
    "     ])\n",
    "#pipeline with col transformer and LinR"
   ]
  },
  {
   "cell_type": "code",
   "execution_count": 16,
   "id": "a48beb55",
   "metadata": {},
   "outputs": [
    {
     "data": {
      "text/plain": [
       "Pipeline(steps=[('trans',\n",
       "                 ColumnTransformer(transformers=[('pipe1',\n",
       "                                                  Pipeline(steps=[('kbins',\n",
       "                                                                   KBinsDiscretizer(encode='onehot-dense',\n",
       "                                                                                    n_bins=6,\n",
       "                                                                                    strategy='uniform'))]),\n",
       "                                                  ['time']),\n",
       "                                                 ('pipe2',\n",
       "                                                  Pipeline(steps=[('scaler',\n",
       "                                                                   StandardScaler())]),\n",
       "                                                  ['humidity', 'windspeed',\n",
       "                                                   'temp']),\n",
       "                                                 ('pipe3',\n",
       "                                                  Pipeline(steps=[('ohe',\n",
       "                                                                   OneHotEncoder(handle_unknown='ignore'))]),\n",
       "                                                  ['workingday', 'holiday',\n",
       "                                                   'season', 'weekday'])])),\n",
       "                ('model', PoissonRegressor(alpha=1, max_iter=1000))])"
      ]
     },
     "execution_count": 16,
     "metadata": {},
     "output_type": "execute_result"
    }
   ],
   "source": [
    "pipe5.fit(X_train, y_train)\n",
    "# make predictions"
   ]
  },
  {
   "cell_type": "code",
   "execution_count": 17,
   "id": "97f6ae33",
   "metadata": {},
   "outputs": [],
   "source": [
    "# make predictions\n",
    "yhat = pipe5.predict(X_test)"
   ]
  },
  {
   "cell_type": "code",
   "execution_count": 18,
   "id": "3b577912",
   "metadata": {},
   "outputs": [
    {
     "data": {
      "text/plain": [
       "array([ 85.67117639, 256.11839722, 190.72208468, ...,  77.76972599,\n",
       "       190.53522171,  41.0599499 ])"
      ]
     },
     "execution_count": 18,
     "metadata": {},
     "output_type": "execute_result"
    }
   ],
   "source": [
    "yhat"
   ]
  },
  {
   "cell_type": "code",
   "execution_count": 19,
   "id": "e9e71dc3",
   "metadata": {},
   "outputs": [],
   "source": [
    "from sklearn import metrics"
   ]
  },
  {
   "cell_type": "code",
   "execution_count": 20,
   "id": "5622ee8e",
   "metadata": {},
   "outputs": [
    {
     "data": {
      "text/plain": [
       "0.487153153282485"
      ]
     },
     "execution_count": 20,
     "metadata": {},
     "output_type": "execute_result"
    }
   ],
   "source": [
    "r2_test = metrics.r2_score(y_test, yhat)\n",
    "\n",
    "r2_test\n",
    "#72 for casual and only 50 for registered... ? "
   ]
  },
  {
   "cell_type": "code",
   "execution_count": 21,
   "id": "e440c736",
   "metadata": {},
   "outputs": [],
   "source": [
    "from sklearn.metrics import mean_squared_log_error"
   ]
  },
  {
   "cell_type": "code",
   "execution_count": 22,
   "id": "980e7ead",
   "metadata": {},
   "outputs": [
    {
     "data": {
      "text/plain": [
       "1.047637104861593"
      ]
     },
     "execution_count": 22,
     "metadata": {},
     "output_type": "execute_result"
    }
   ],
   "source": [
    "mean_squared_log_error(y_test, yhat, squared=False)\n",
    "#much better score with RSMLE 98 (99 w squared = false), must be many outliers? Or more overestimation of bikes rented than under since RMSLE penalises for underestimation??\n",
    "#https://medium.com/analytics-vidhya/root-mean-square-log-error-rmse-vs-rmlse-935c6cc1802a\n",
    "#https://www.kaggle.com/code/carlolepelaars/understanding-the-metric-rmsle/notebook"
   ]
  },
  {
   "cell_type": "code",
   "execution_count": null,
   "id": "eaa01967",
   "metadata": {},
   "outputs": [],
   "source": [
    "#grid search for hyperparameter optimisation -lasso "
   ]
  },
  {
   "cell_type": "code",
   "execution_count": null,
   "id": "0def75ec",
   "metadata": {},
   "outputs": [],
   "source": []
  },
  {
   "cell_type": "code",
   "execution_count": null,
   "id": "cc1ea457",
   "metadata": {},
   "outputs": [],
   "source": []
  },
  {
   "cell_type": "code",
   "execution_count": null,
   "id": "d67aab8f",
   "metadata": {},
   "outputs": [],
   "source": []
  },
  {
   "cell_type": "code",
   "execution_count": null,
   "id": "38878f87",
   "metadata": {},
   "outputs": [],
   "source": [
    "#grid search for hyperparameter optimisation -ridge \n",
    "\n",
    "\n"
   ]
  },
  {
   "cell_type": "code",
   "execution_count": null,
   "id": "3cda0fff",
   "metadata": {},
   "outputs": [],
   "source": [
    "\n",
    "\n"
   ]
  },
  {
   "cell_type": "code",
   "execution_count": null,
   "id": "96ed2c9d",
   "metadata": {},
   "outputs": [],
   "source": []
  },
  {
   "cell_type": "code",
   "execution_count": null,
   "id": "097a7abe",
   "metadata": {},
   "outputs": [],
   "source": []
  },
  {
   "cell_type": "code",
   "execution_count": null,
   "id": "011a94f7",
   "metadata": {},
   "outputs": [],
   "source": []
  },
  {
   "cell_type": "code",
   "execution_count": null,
   "id": "fbd2b684",
   "metadata": {},
   "outputs": [],
   "source": []
  },
  {
   "cell_type": "code",
   "execution_count": null,
   "id": "d7bac9fb",
   "metadata": {},
   "outputs": [],
   "source": [
    "#print(\"model score: %.3f\" % pipeline.score(X_test, y_test))\n",
    "# get predictions from the pipeline\n",
    "#print(pipeline.predict(X_test))\n",
    "\n",
    "# get prediction probabilities from the pipeline \n",
    "#print(pipeline.predict_proba(X_test)[:, 1])"
   ]
  },
  {
   "cell_type": "code",
   "execution_count": null,
   "id": "a3a91c7e",
   "metadata": {},
   "outputs": [],
   "source": []
  },
  {
   "cell_type": "code",
   "execution_count": null,
   "id": "d7ea4027",
   "metadata": {},
   "outputs": [],
   "source": []
  },
  {
   "cell_type": "code",
   "execution_count": null,
   "id": "f1e83bbb",
   "metadata": {},
   "outputs": [],
   "source": []
  },
  {
   "cell_type": "code",
   "execution_count": null,
   "id": "22da020f",
   "metadata": {},
   "outputs": [],
   "source": []
  },
  {
   "cell_type": "code",
   "execution_count": null,
   "id": "0f7527d5",
   "metadata": {},
   "outputs": [],
   "source": []
  },
  {
   "cell_type": "code",
   "execution_count": null,
   "id": "0bddba45",
   "metadata": {},
   "outputs": [],
   "source": []
  },
  {
   "cell_type": "code",
   "execution_count": null,
   "id": "cf3d9818",
   "metadata": {},
   "outputs": [],
   "source": []
  },
  {
   "cell_type": "code",
   "execution_count": null,
   "id": "481b9b23",
   "metadata": {},
   "outputs": [],
   "source": []
  },
  {
   "cell_type": "code",
   "execution_count": null,
   "id": "b2f0cb1b",
   "metadata": {},
   "outputs": [],
   "source": []
  },
  {
   "cell_type": "code",
   "execution_count": null,
   "id": "db8570ef",
   "metadata": {},
   "outputs": [],
   "source": []
  },
  {
   "cell_type": "code",
   "execution_count": null,
   "id": "f8916ce8",
   "metadata": {},
   "outputs": [],
   "source": []
  },
  {
   "cell_type": "code",
   "execution_count": 21,
   "id": "bbb35e1c",
   "metadata": {},
   "outputs": [],
   "source": [
    "#linreg without FE\n",
    "#m = LinearRegression()\n",
    "#m.fit(X_train,y_train)\n",
    "#m.score(X_test, y_test)\n",
    "# m.predict(X)\n",
    "#y_pred = m.predict(X)\n",
    "#df['y_pred'] = y_pred"
   ]
  },
  {
   "cell_type": "code",
   "execution_count": null,
   "id": "5376c41a",
   "metadata": {},
   "outputs": [],
   "source": []
  },
  {
   "cell_type": "code",
   "execution_count": null,
   "id": "8a0ba8bf",
   "metadata": {},
   "outputs": [],
   "source": []
  },
  {
   "cell_type": "code",
   "execution_count": null,
   "id": "4b98f411",
   "metadata": {},
   "outputs": [],
   "source": []
  },
  {
   "cell_type": "code",
   "execution_count": null,
   "id": "05103ba1",
   "metadata": {},
   "outputs": [],
   "source": []
  },
  {
   "cell_type": "code",
   "execution_count": null,
   "id": "f5a4f111",
   "metadata": {},
   "outputs": [],
   "source": []
  },
  {
   "cell_type": "code",
   "execution_count": null,
   "id": "cce20373",
   "metadata": {},
   "outputs": [],
   "source": []
  },
  {
   "cell_type": "code",
   "execution_count": null,
   "id": "206e041a",
   "metadata": {},
   "outputs": [],
   "source": []
  },
  {
   "cell_type": "code",
   "execution_count": null,
   "id": "ef522a38",
   "metadata": {},
   "outputs": [],
   "source": []
  },
  {
   "cell_type": "code",
   "execution_count": null,
   "id": "41f93a98",
   "metadata": {},
   "outputs": [],
   "source": []
  },
  {
   "cell_type": "code",
   "execution_count": null,
   "id": "5fe657b8",
   "metadata": {},
   "outputs": [],
   "source": []
  },
  {
   "cell_type": "code",
   "execution_count": null,
   "id": "e1fb24e1",
   "metadata": {},
   "outputs": [],
   "source": []
  },
  {
   "cell_type": "code",
   "execution_count": null,
   "id": "48af1457",
   "metadata": {},
   "outputs": [],
   "source": []
  },
  {
   "cell_type": "code",
   "execution_count": null,
   "id": "0d0f8fe9",
   "metadata": {},
   "outputs": [],
   "source": []
  },
  {
   "cell_type": "code",
   "execution_count": null,
   "id": "790f1f0e",
   "metadata": {},
   "outputs": [],
   "source": []
  }
 ],
 "metadata": {
  "kernelspec": {
   "display_name": "Python 3 (ipykernel)",
   "language": "python",
   "name": "python3"
  },
  "language_info": {
   "codemirror_mode": {
    "name": "ipython",
    "version": 3
   },
   "file_extension": ".py",
   "mimetype": "text/x-python",
   "name": "python",
   "nbconvert_exporter": "python",
   "pygments_lexer": "ipython3",
   "version": "3.9.7"
  }
 },
 "nbformat": 4,
 "nbformat_minor": 5
}
