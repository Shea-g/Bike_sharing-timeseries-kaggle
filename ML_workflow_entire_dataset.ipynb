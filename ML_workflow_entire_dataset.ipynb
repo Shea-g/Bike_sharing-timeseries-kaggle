{
 "cells": [
  {
   "cell_type": "code",
   "execution_count": 3,
   "id": "a1901867",
   "metadata": {},
   "outputs": [],
   "source": [
    "import pandas as pd\n",
    "import numpy as np\n",
    "from sklearn.model_selection import train_test_split\n",
    "\n",
    "#FE\n",
    "from sklearn.preprocessing import OneHotEncoder\n",
    "from sklearn.preprocessing import MinMaxScaler\n",
    "#from sklearn.impute import SimpleImputer #no missing vals\n",
    "from sklearn.preprocessing import KBinsDiscretizer\n",
    "from sklearn.pipeline import Pipeline\n",
    "from sklearn.compose import ColumnTransformer\n",
    "from sklearn.pipeline import make_pipeline\n",
    "from sklearn.preprocessing import FunctionTransformer\n",
    "from sklearn.preprocessing import StandardScaler\n",
    "from sklearn.preprocessing import PolynomialFeatures\n",
    "\n",
    "#regressors\n",
    "from sklearn.linear_model import PoissonRegressor\n",
    "from sklearn.linear_model import LinearRegression\n",
    "from sklearn.ensemble import RandomForestRegressor\n",
    "import xgboost as xgb\n",
    "\n",
    "# Cross validation \n",
    "from sklearn.model_selection import cross_validate\n",
    "from sklearn.model_selection import cross_val_score\n",
    "from sklearn.model_selection import GridSearchCV\n",
    "from sklearn.linear_model import Lasso\n",
    "from sklearn.linear_model import Ridge\n",
    "from sklearn.linear_model import ElasticNet\n",
    "\n",
    "# Scoring metrics\n",
    "from sklearn.metrics import accuracy_score\n",
    "from sklearn.metrics import precision_score\n",
    "from sklearn.metrics import recall_score\n",
    "from sklearn.metrics import f1_score\n",
    "from sklearn.metrics import confusion_matrix\n",
    "from sklearn.metrics import roc_curve, auc\n",
    "from sklearn.metrics import plot_roc_curve, auc, roc_curve\n",
    "from sklearn.metrics import plot_precision_recall_curve\n",
    "from sklearn.metrics import precision_recall_curve\n",
    "from sklearn.metrics import mean_squared_log_error\n",
    "from sklearn.metrics import mean_squared_error\n",
    "\n",
    "#https://www.kaggle.com/competitions/bike-sharing-demand/overview"
   ]
  },
  {
   "cell_type": "code",
   "execution_count": 4,
   "id": "33b1a142",
   "metadata": {},
   "outputs": [],
   "source": [
    "#pip install xgboost\n",
    "df= pd.read_csv('bike_time_features.csv', index_col=0, parse_dates=True)\n",
    "df_reg = df.drop(['count', 'casual'], axis=1)\n",
    "df_cas = df.drop(['count', 'registered'], axis = 1)"
   ]
  },
  {
   "cell_type": "markdown",
   "id": "7f421e84",
   "metadata": {},
   "source": [
    "### Train, test, split for different data combos"
   ]
  },
  {
   "cell_type": "markdown",
   "id": "1dc85631",
   "metadata": {},
   "source": [
    "Based on the EDA in the other notebooks, this will be done comparing regressors fit on the entire data, and regressors fit on the casual and registered data separately (with overall avg performance as comparison to entire dataset)"
   ]
  },
  {
   "cell_type": "code",
   "execution_count": 5,
   "id": "9f53296c",
   "metadata": {},
   "outputs": [],
   "source": [
    "cn_train, cn_test = train_test_split(df, test_size=0.3, random_state=12)\n",
    "rg_train, rg_test = train_test_split(df_reg, test_size=0.3, random_state=12)\n",
    "cs_train, cs_test = train_test_split(df_cas, test_size=0.3, random_state=12)"
   ]
  },
  {
   "cell_type": "code",
   "execution_count": 6,
   "id": "f5ec2839",
   "metadata": {},
   "outputs": [],
   "source": [
    "Xtrain_cn = cn_train.drop(columns=['count', 'registered', 'casual'])\n",
    "Xtrain_rg = rg_train.drop(columns=['registered'])\n",
    "Xtrain_cs = cs_train.drop(columns=['casual'])\n",
    "\n",
    "Xtest_cn = cn_test.drop(columns=['count', 'registered', 'casual'])\n",
    "Xtest_rg = rg_test.drop(columns=['registered'])\n",
    "Xtest_cs = cs_test.drop(columns=['casual'])"
   ]
  },
  {
   "cell_type": "code",
   "execution_count": 7,
   "id": "5c147b28",
   "metadata": {},
   "outputs": [],
   "source": [
    "ytrain_cn = cn_train['count']\n",
    "ytrain_rg = rg_train['registered']\n",
    "ytrain_cs = cs_train['casual']\n",
    "\n",
    "ytest_cn = cn_test['count']\n",
    "ytest_rg = rg_test['registered']\n",
    "ytest_cs = cs_test['casual']"
   ]
  },
  {
   "cell_type": "code",
   "execution_count": 8,
   "id": "7cfc12d2",
   "metadata": {},
   "outputs": [],
   "source": [
    "#df.info() #for FE menu below"
   ]
  },
  {
   "cell_type": "markdown",
   "id": "8ad19555",
   "metadata": {},
   "source": [
    "##### Regressor pipeline placeholders (for visualising whats in function) "
   ]
  },
  {
   "cell_type": "markdown",
   "id": "e3ddf48c",
   "metadata": {},
   "source": [
    "pipeline_LR = Pipeline([\n",
    "    ('trans',transformer),\n",
    "    ('model',LinearRegression())\n",
    "])\n",
    "\n",
    "pipeline__RF = Pipeline([\n",
    "    ('trans',transformer),\n",
    "    ('model',RandomForestRegressor(max_depth = 10, random_state=0)) #func for testing on diff depths later..see below\n",
    "])\n",
    "\n",
    "pipeline_PR = Pipeline([\n",
    "    ('trans',transformer),\n",
    "    ('model',PoissonRegressor(max_iter=200)) #func for testing iterations later\n",
    "])"
   ]
  },
  {
   "cell_type": "markdown",
   "id": "a59d9add",
   "metadata": {},
   "source": [
    "# Scoring Metrics\n",
    "aside from accuracy that is..."
   ]
  },
  {
   "cell_type": "markdown",
   "id": "d26d6649",
   "metadata": {},
   "source": [
    "RMSE: how erroneous is the model performing, depicts absolute error, if high model is quite erroneous...\n",
    "\n",
    "\n",
    "RMSLE: what is the relative error of this model, log transformed values, doesnt penalize error term because of outliers as much, larger penalty for underestimation of y than overestimation (good for business cases, underestimation undesirable) "
   ]
  },
  {
   "cell_type": "markdown",
   "id": "14b18514",
   "metadata": {},
   "source": [
    "# Function for overview // efficiency! "
   ]
  },
  {
   "cell_type": "markdown",
   "id": "a955c2b0",
   "metadata": {},
   "source": [
    "Function for different pipeline models (V0 not efficient for using results in a table for comparison / later use). "
   ]
  },
  {
   "cell_type": "code",
   "execution_count": 37,
   "id": "4c562f14",
   "metadata": {},
   "outputs": [],
   "source": [
    "def Regressor_testing_V0(Xtrain, ytrain, Xtest,ytest, Transformer, Model, model_name_str):\n",
    "    \n",
    "    '''\n",
    "    Function to easily implement different models and transformers for quick testing\n",
    "    Different transformers, datasets and models can be input to quickly get an overview of results\n",
    "    Transformers should be defined outside of func (poss with other func?)\n",
    "    '''\n",
    "    ytrainlog = np.log1p(ytrain)\n",
    "    ytestlog = np.log1p(ytest)\n",
    "    \n",
    "    pipeline = Pipeline([ ('trans', Transformer), ('model', Model) ])\n",
    "    pipeline.fit(Xtrain, ytrainlog)\n",
    "    ypred = pipeline.predict(Xtest)\n",
    "    \n",
    "    score_train = \"R2 train score of\" + model_name_str + 'is ' + str(pipeline.score(Xtrain, ytrainlog))\n",
    "    score_test = \"R2 test score of\" + model_name_str + 'is ' + str(pipeline.score(Xtest, ytestlog))\n",
    "    \n",
    "    RMSE = \"RMSE of\"+ model_name_str + 'is ' +  str(np.sqrt(mean_squared_error(ytest, ypred))) \n",
    "    RMSLE = \"RMSLE of\"+ model_name_str + 'is ' +  str(np.sqrt(mean_squared_log_error(ytest, ypred))) \n",
    "    \n",
    "    \n",
    "    return (score_train, score_test, RMSE, RMSLE)                        "
   ]
  },
  {
   "cell_type": "code",
   "execution_count": 46,
   "id": "7e9ededa",
   "metadata": {},
   "outputs": [],
   "source": [
    "def Regressor_testing(Xtrain, ytrain, Xtest,ytest, Transformer, Model, model_name_str):\n",
    "    \n",
    "    '''\n",
    "    Function to easily implement different models and transformers for quick testing\n",
    "    Different transformers, datasets and models can be input to quickly get an overview of results\n",
    "    Transformers should be defined outside of func (poss with other func?)\n",
    "    '''\n",
    "    \n",
    "    model_output= []\n",
    "    \n",
    "    ytrainlog = np.log1p(ytrain)\n",
    "    ytestlog = np.log1p(ytest)\n",
    "    \n",
    "    pipeline = Pipeline([ ('trans', Transformer), ('model', Model) ])\n",
    "    pipeline.fit(Xtrain, ytrainlog)\n",
    "    ypred = pipeline.predict(Xtest)\n",
    "    \n",
    "    score_train = \"R2 train score of\" + model_name_str + 'is ' + str(pipeline.score(Xtrain, ytrainlog)) + ' AND the'\n",
    "    score_train_mo =pipeline.score(Xtrain, ytrainlog)\n",
    "    model_output.append(score_train_mo)\n",
    "    \n",
    "    score_test = \"R2 test score of\" + model_name_str + 'is ' + str(pipeline.score(Xtest, ytestlog)) + ' AND the'\n",
    "    score_test_mo = pipeline.score(Xtrain, ytrainlog)\n",
    "    model_output.append(score_test_mo)\n",
    "    \n",
    "    RMSE = \"RMSE of\"+ model_name_str + 'is ' +  str(np.sqrt(mean_squared_error(ytest, ypred)))  + ' AND the'\n",
    "    RMSE_mo = np.sqrt(mean_squared_error(ytest, ypred))\n",
    "    model_output.append(RMSE_mo)\n",
    "    #note: need to figure out how to implement new line in the string formatting above..\n",
    "    \n",
    "    \n",
    "    RMSLE = \"RMSLE of\"+ model_name_str + 'is ' +  str(np.sqrt(mean_squared_log_error(ytest, ypred))) \n",
    "    RMSLE_mo = np.sqrt(mean_squared_log_error(ytest, ypred))\n",
    "    model_output.append(RMSLE_mo)\n",
    "    \n",
    "    \n",
    "    print(score_train,\n",
    "          \n",
    "          score_test, \n",
    "          \n",
    "          RMSE, \n",
    "          \n",
    "          RMSLE)\n",
    "    \n",
    "    return (model_output)  #use this to put into a func which puts it in a table?"
   ]
  },
  {
   "cell_type": "markdown",
   "id": "9bf72264",
   "metadata": {},
   "source": [
    "## Different pipelines to be used in transformers"
   ]
  },
  {
   "cell_type": "code",
   "execution_count": 40,
   "id": "ed6ee333",
   "metadata": {},
   "outputs": [],
   "source": [
    "pipeline_scaler = Pipeline([\n",
    "            ('Scaler', StandardScaler())\n",
    "])\n",
    "\n",
    "pipeline_ohe = Pipeline([\n",
    "            ('ohe', OneHotEncoder(handle_unknown=\"ignore\"))\n",
    "])\n",
    "\n",
    "#cols to keep the same and use in model\n",
    "#('pass', 'passthrough', [])\n",
    "\n",
    "#custom func\n",
    "#('', FunctionTransformer(), ['relevant_col'])"
   ]
  },
  {
   "cell_type": "markdown",
   "id": "0e4efe18",
   "metadata": {},
   "source": [
    "# Baseline Models (lin reg and entire dataset) "
   ]
  },
  {
   "cell_type": "markdown",
   "id": "c43091bc",
   "metadata": {},
   "source": [
    "### Models using basically all features with different engineering combos"
   ]
  },
  {
   "cell_type": "markdown",
   "id": "7c2c9382",
   "metadata": {},
   "source": [
    "#### Model 1: most simple,two trials (one with temp, one with atemp), and all relevant cat feats, NO polynomials"
   ]
  },
  {
   "cell_type": "code",
   "execution_count": 41,
   "id": "d670d0f4",
   "metadata": {},
   "outputs": [],
   "source": [
    "#FE\n",
    "cat_feat1 = ['hour', 'weekofyear', 'weather'] #OHE \n",
    "\n",
    "num_feat1a = ['atemp', 'humidity', 'windspeed' ]\n",
    "\n",
    "num_feat1b = ['temp', 'humidity', 'windspeed' ]"
   ]
  },
  {
   "cell_type": "code",
   "execution_count": 42,
   "id": "375a4814",
   "metadata": {},
   "outputs": [],
   "source": [
    "#transformer\n",
    "T1 = ColumnTransformer([\n",
    "    ('scaler',pipeline_scaler,num_feat1a),\n",
    "    ('ohc',pipeline_ohe,cat_feat1)])"
   ]
  },
  {
   "cell_type": "code",
   "execution_count": 43,
   "id": "129303db",
   "metadata": {},
   "outputs": [
    {
     "name": "stdout",
     "output_type": "stream",
     "text": [
      "R2 train score of LinRegM1 is 0.8062386884181659 AND the R2 test score of LinRegM1 is 0.8044214096982655 AND the RMSE of LinRegM1 is 262.3054225839597 AND the RMSLE of LinRegM1 is 3.1489362688705955\n"
     ]
    }
   ],
   "source": [
    "#model a output\n",
    "LinRegM1 = Regressor_testing(Xtrain_cn, ytrain_cn, Xtest_cn, ytest_cn, T1, LinearRegression(), ' LinRegM1 ')"
   ]
  },
  {
   "cell_type": "code",
   "execution_count": 54,
   "id": "38a3102f",
   "metadata": {},
   "outputs": [
    {
     "data": {
      "text/plain": [
       "[0.8062386884181659, 0.8062386884181659, 262.3054225839597, 3.1489362688705955]"
      ]
     },
     "execution_count": 54,
     "metadata": {},
     "output_type": "execute_result"
    }
   ],
   "source": [
    "LinRegM1 "
   ]
  },
  {
   "cell_type": "code",
   "execution_count": 47,
   "id": "90fa0574",
   "metadata": {},
   "outputs": [],
   "source": [
    "#model b output\n",
    "T1b = ColumnTransformer([\n",
    "    ('scaler',pipeline_scaler,num_feat1b),\n",
    "    ('ohc',pipeline_ohe,cat_feat1)])"
   ]
  },
  {
   "cell_type": "code",
   "execution_count": 48,
   "id": "d6ebf2d6",
   "metadata": {},
   "outputs": [
    {
     "name": "stdout",
     "output_type": "stream",
     "text": [
      "R2 train score of LinRegM1b is 0.8063357052293839 AND the R2 test score of LinRegM1b is 0.8048731773556155 AND the RMSE of LinRegM1b is 262.3049695348988 AND the RMSLE of LinRegM1b is 3.1489682458412047\n"
     ]
    }
   ],
   "source": [
    "#model a output\n",
    "LinRegM1b = Regressor_testing(Xtrain_cn, ytrain_cn, Xtest_cn, ytest_cn, T1b, LinearRegression(), ' LinRegM1b ')"
   ]
  },
  {
   "cell_type": "code",
   "execution_count": 49,
   "id": "c05ea5bf",
   "metadata": {},
   "outputs": [],
   "source": [
    "#with holiday and working day (forgot pass through statement above)\n",
    "T1_b = ColumnTransformer([\n",
    "    ('scaler',pipeline_scaler,num_feat1b),\n",
    "    ('ohc',pipeline_ohe,cat_feat1),\n",
    "    ('pass','passthrough',['holiday','workingday']) #already OHE..try adding in cat in next anyways? \n",
    "])"
   ]
  },
  {
   "cell_type": "code",
   "execution_count": 50,
   "id": "55c34086",
   "metadata": {},
   "outputs": [
    {
     "name": "stdout",
     "output_type": "stream",
     "text": [
      "R2 train score of LinRegM1b is 0.8063357052293839 AND the R2 test score of LinRegM1b is 0.8048731773556155 AND the RMSE of LinRegM1b is 262.3049695348988 AND the RMSLE of LinRegM1b is 3.1489682458412047\n"
     ]
    }
   ],
   "source": [
    "LinRegM1b = Regressor_testing(Xtrain_cn, ytrain_cn, Xtest_cn, ytest_cn, T1b, LinearRegression(), ' LinRegM1b ') #same in anycase"
   ]
  },
  {
   "cell_type": "markdown",
   "id": "35cacb44",
   "metadata": {},
   "source": [
    "Test score slightly higher for b, RMSE and RMSLE v close, so use temp from now on probs "
   ]
  },
  {
   "cell_type": "markdown",
   "id": "f666b1fc",
   "metadata": {},
   "source": [
    "#### Model 2: same as above with polynomial features (all numeric)"
   ]
  },
  {
   "cell_type": "code",
   "execution_count": 51,
   "id": "e6bc8180",
   "metadata": {},
   "outputs": [],
   "source": [
    "cat_feat2 = ['hour', 'weekofyear', 'weather', 'holiday', 'workingday'] \n",
    "\n",
    "num_feat2 = ['temp', 'humidity', 'windspeed' ]\n",
    "\n",
    "poly_feat2 = ['temp', 'humidity', 'windspeed' ]"
   ]
  },
  {
   "cell_type": "code",
   "execution_count": 52,
   "id": "73c96e9c",
   "metadata": {},
   "outputs": [],
   "source": [
    "T2 = ColumnTransformer([\n",
    "    ('scaler',pipeline_scaler,num_feat2),\n",
    "    ('ohc',pipeline_ohe,cat_feat2),\n",
    "    ('poly',PolynomialFeatures(degree=5,interaction_only=True,include_bias=False),poly_feat2)\n",
    "])"
   ]
  },
  {
   "cell_type": "code",
   "execution_count": 53,
   "id": "9436e0ad",
   "metadata": {},
   "outputs": [
    {
     "name": "stdout",
     "output_type": "stream",
     "text": [
      "R2 train score of LinRegM2 is 0.8076964880392206 AND the R2 test score of LinRegM2 is 0.8063047310573082 AND the RMSE of LinRegM2 is 262.3042491284425 AND the RMSLE of LinRegM2 is 3.148391018028354\n"
     ]
    }
   ],
   "source": [
    "LinRegM2 = Regressor_testing(Xtrain_cn, ytrain_cn, Xtest_cn, ytest_cn, T2, LinearRegression(), ' LinRegM2 ')"
   ]
  },
  {
   "cell_type": "markdown",
   "id": "159f71c3",
   "metadata": {},
   "source": [
    "R scores better, RMSE and RMSLE same"
   ]
  },
  {
   "cell_type": "markdown",
   "id": "28a959d3",
   "metadata": {},
   "source": [
    "#### Model 3: Try with poisson with and without poly"
   ]
  },
  {
   "cell_type": "code",
   "execution_count": 55,
   "id": "e2cfe54b",
   "metadata": {},
   "outputs": [
    {
     "name": "stdout",
     "output_type": "stream",
     "text": [
      "R2 train score of PoisRegPoly is 0.0 AND the R2 test score of PoisRegPoly is -0.00022014838016892746 AND the RMSE of PoisRegPoly is 262.95066268109133 AND the RMSLE of PoisRegPoly is 3.2151097899407\n"
     ]
    },
    {
     "name": "stderr",
     "output_type": "stream",
     "text": [
      "C:\\Users\\alexp\\anaconda3\\lib\\site-packages\\sklearn\\linear_model\\_glm\\link.py:90: RuntimeWarning: overflow encountered in exp\n",
      "  return np.exp(lin_pred)\n",
      "C:\\Users\\alexp\\anaconda3\\lib\\site-packages\\sklearn\\linear_model\\_glm\\link.py:93: RuntimeWarning: overflow encountered in exp\n",
      "  return np.exp(lin_pred)\n",
      "C:\\Users\\alexp\\anaconda3\\lib\\site-packages\\sklearn\\_loss\\glm_distribution.py:132: RuntimeWarning: invalid value encountered in true_divide\n",
      "  return -2 * (y - y_pred) / self.unit_variance(y_pred)\n",
      "C:\\Users\\alexp\\anaconda3\\lib\\site-packages\\sklearn\\_loss\\glm_distribution.py:323: RuntimeWarning: invalid value encountered in add\n",
      "  dev = 2 * (xlogy(y, y / y_pred) - y + y_pred)\n",
      "C:\\Users\\alexp\\anaconda3\\lib\\site-packages\\sklearn\\linear_model\\_glm\\glm.py:323: ConvergenceWarning: lbfgs failed to converge (status=2):\n",
      "ABNORMAL_TERMINATION_IN_LNSRCH.\n",
      "\n",
      "Increase the number of iterations (max_iter) or scale the data as shown in:\n",
      "    https://scikit-learn.org/stable/modules/preprocessing.html\n",
      "  self.n_iter_ = _check_optimize_result(\"lbfgs\", opt_res)\n"
     ]
    }
   ],
   "source": [
    "PoisRegPoly = Regressor_testing(Xtrain_cn, ytrain_cn, Xtest_cn, ytest_cn, T2, PoissonRegressor(max_iter=190), ' PoisRegPoly ')"
   ]
  },
  {
   "cell_type": "code",
   "execution_count": 56,
   "id": "82e67347",
   "metadata": {},
   "outputs": [
    {
     "name": "stdout",
     "output_type": "stream",
     "text": [
      "R2 train score of PoisReg_M1 is 0.3319010982709264 AND the R2 test score of PoisReg_M1 is 0.33269777688214763 AND the RMSE of PoisReg_M1 is 262.6932727213375 AND the RMSLE of PoisReg_M1 is 3.191024610752198\n"
     ]
    }
   ],
   "source": [
    "PoisReg_M1 = Regressor_testing(Xtrain_cn, ytrain_cn, Xtest_cn, ytest_cn, T1_b, PoissonRegressor(max_iter=200), ' PoisReg_M1 ')"
   ]
  },
  {
   "cell_type": "markdown",
   "id": "eb57818b",
   "metadata": {},
   "source": [
    "##### Obs: much higher accuracy without poly features"
   ]
  },
  {
   "cell_type": "markdown",
   "id": "a8f7c718",
   "metadata": {},
   "source": [
    "#### Model 4: trying with Random Forest, and various different depths "
   ]
  },
  {
   "cell_type": "markdown",
   "id": "c47f0900",
   "metadata": {},
   "source": [
    "Without poly features"
   ]
  },
  {
   "cell_type": "code",
   "execution_count": 57,
   "id": "0ec0ec1e",
   "metadata": {},
   "outputs": [
    {
     "name": "stdout",
     "output_type": "stream",
     "text": [
      "R2 train score of RF_10 is 0.8438910211668131 AND the R2 test score of RF_10 is 0.8230839525270042 AND the RMSE of RF_10 is 262.38321150578867 AND the RMSLE of RF_10 is 3.144320723963199\n"
     ]
    }
   ],
   "source": [
    "RF_10 = Regressor_testing(Xtrain_cn, ytrain_cn, Xtest_cn, ytest_cn, T1_b, RandomForestRegressor(max_depth =10, random_state=0), ' RF_10 ')"
   ]
  },
  {
   "cell_type": "code",
   "execution_count": 58,
   "id": "6b9ca001",
   "metadata": {},
   "outputs": [
    {
     "name": "stdout",
     "output_type": "stream",
     "text": [
      "R2 train score of RF_15 is 0.9249187652893911 AND the R2 test score of RF_15 is 0.8767466406978608 AND the RMSE of RF_15 is 262.2825342555777 AND the RMSLE of RF_15 is 3.1396731323297433\n"
     ]
    }
   ],
   "source": [
    "RF_15 = Regressor_testing(Xtrain_cn, ytrain_cn, Xtest_cn, ytest_cn, T1_b, RandomForestRegressor(max_depth =15, random_state=0), ' RF_15 ')"
   ]
  },
  {
   "cell_type": "code",
   "execution_count": 59,
   "id": "a1eb138a",
   "metadata": {},
   "outputs": [
    {
     "name": "stdout",
     "output_type": "stream",
     "text": [
      "R2 train score of RF_20 is 0.9611796728490452 AND the R2 test score of RF_20 is 0.8971854885556041 AND the RMSE of RF_20 is 262.24246914193884 AND the RMSLE of RF_20 is 3.138988786303532\n"
     ]
    }
   ],
   "source": [
    "RF_20 = Regressor_testing(Xtrain_cn, ytrain_cn, Xtest_cn, ytest_cn, T1_b, RandomForestRegressor(max_depth =20, random_state=0), ' RF_20 ')"
   ]
  },
  {
   "cell_type": "markdown",
   "id": "5ea796c0",
   "metadata": {},
   "source": [
    "##### Obs: RFR highest accuracy so far, but RMSE and RMSLE only slightly better than lin reg models, and PR (also lingreg still pretty accurate)"
   ]
  },
  {
   "cell_type": "markdown",
   "id": "3f900483",
   "metadata": {},
   "source": [
    "With poly features"
   ]
  },
  {
   "cell_type": "code",
   "execution_count": 60,
   "id": "6c871180",
   "metadata": {},
   "outputs": [
    {
     "name": "stdout",
     "output_type": "stream",
     "text": [
      "R2 train score of RF_10_poly is 0.8455451101074689 AND the R2 test score of RF_10_poly is 0.8216115668544954 AND the RMSE of RF_10_poly is 262.38351427396253 AND the RMSLE of RF_10_poly is 3.144383637058642\n"
     ]
    }
   ],
   "source": [
    "RF_10_poly = Regressor_testing(Xtrain_cn, ytrain_cn, Xtest_cn, ytest_cn, T2, RandomForestRegressor(max_depth =10, random_state=0), ' RF_10_poly ')"
   ]
  },
  {
   "cell_type": "code",
   "execution_count": 61,
   "id": "31723b80",
   "metadata": {},
   "outputs": [
    {
     "name": "stdout",
     "output_type": "stream",
     "text": [
      "R2 train score of RF_15_poly is 0.9262049458439154 AND the R2 test score of RF_15_poly is 0.8749134293998453 AND the RMSE of RF_15_poly is 262.28442341430383 AND the RMSLE of RF_15_poly is 3.1399228944270465\n"
     ]
    }
   ],
   "source": [
    "RF_15_poly = Regressor_testing(Xtrain_cn, ytrain_cn, Xtest_cn, ytest_cn, T2, RandomForestRegressor(max_depth =15, random_state=0), ' RF_15_poly ')"
   ]
  },
  {
   "cell_type": "code",
   "execution_count": 62,
   "id": "95a80db4",
   "metadata": {},
   "outputs": [
    {
     "name": "stdout",
     "output_type": "stream",
     "text": [
      "R2 train score of RF_20_poly is 0.9617129047889337 AND the R2 test score of RF_20_poly is 0.8950142034420682 AND the RMSE of RF_20_poly is 262.245764733932 AND the RMSLE of RF_20_poly is 3.1393051095879034\n"
     ]
    }
   ],
   "source": [
    "RF_20_poly = Regressor_testing(Xtrain_cn, ytrain_cn, Xtest_cn, ytest_cn, T2, RandomForestRegressor(max_depth =20, random_state=0), ' RF_20_poly ')"
   ]
  },
  {
   "cell_type": "markdown",
   "id": "9f04373b",
   "metadata": {},
   "source": [
    "##### slightly more accurate than without poly, but ! RMSLE and RMSE slightly worse?"
   ]
  },
  {
   "cell_type": "markdown",
   "id": "0bc055fc",
   "metadata": {},
   "source": [
    "#### Model(s) 5 : trying with windspeed in a custom bin (for each of best regressors so far, with and without poly)\n",
    "windspeed seems to have two distinct areas"
   ]
  },
  {
   "cell_type": "code",
   "execution_count": 63,
   "id": "4c722249",
   "metadata": {},
   "outputs": [],
   "source": [
    "#custom func: bin wind into two (32 divide) to make more predictive (based on dist) -> see EDA for custom bin\n",
    "def custom_bin(df):\n",
    "    \n",
    "    for a in df:\n",
    "        df.loc[ (df['windspeed']> 0) & (df['windspeed'] <= 25), 'windspeed'] = 0\n",
    "        df.loc[ (df['windspeed']> 25), 'windspeed'] = 1\n",
    "    \n",
    "        return df[['windspeed']]\n",
    "#for in pipe: ('cust_bin', FunctionTransformer(custom_bin), ['windspeed'])"
   ]
  },
  {
   "cell_type": "markdown",
   "id": "79f14bfe",
   "metadata": {},
   "source": [
    "without poly"
   ]
  },
  {
   "cell_type": "code",
   "execution_count": 64,
   "id": "587988f6",
   "metadata": {},
   "outputs": [],
   "source": [
    "T3 = ColumnTransformer([\n",
    "    ('scaler',pipeline_scaler,num_feat2),\n",
    "    ('ohc',pipeline_ohe,cat_feat2),\n",
    "    ('cust_bin', FunctionTransformer(custom_bin), ['windspeed'])\n",
    "])\n",
    "\n",
    "T4 = ColumnTransformer([\n",
    "    ('scaler',pipeline_scaler,num_feat2),\n",
    "    ('ohc',pipeline_ohe,cat_feat2),\n",
    "    ('cust_bin', FunctionTransformer(custom_bin), ['windspeed']),\n",
    "    ('poly',PolynomialFeatures(degree=5,interaction_only=True,include_bias=False),poly_feat2)\n",
    "])"
   ]
  },
  {
   "cell_type": "code",
   "execution_count": 65,
   "id": "9235dfcd",
   "metadata": {},
   "outputs": [
    {
     "name": "stdout",
     "output_type": "stream",
     "text": [
      "R2 train score of RF_CB is 0.9611310718743683 AND the R2 test score of RF_CB is 0.8975681725685324 AND the RMSE of RF_CB is 262.24218723046147 AND the RMSLE of RF_CB is 3.1388684380565053\n"
     ]
    }
   ],
   "source": [
    "RF_CB = Regressor_testing(Xtrain_cn, ytrain_cn, Xtest_cn, ytest_cn, T3, RandomForestRegressor(max_depth =20, random_state=0), ' RF_CB ')\n",
    "#less well performing"
   ]
  },
  {
   "cell_type": "code",
   "execution_count": 66,
   "id": "804b23e0",
   "metadata": {},
   "outputs": [
    {
     "name": "stdout",
     "output_type": "stream",
     "text": [
      "R2 train score of PoisReg_CB is 0.3320414630854772 AND the R2 test score of PoisReg_CB is 0.3326859157816441 AND the RMSE of PoisReg_CB is 262.69341876821693 AND the RMSLE of PoisReg_CB is 3.19102356410071\n"
     ]
    }
   ],
   "source": [
    "PoisReg_CB = Regressor_testing(Xtrain_cn, ytrain_cn, Xtest_cn, ytest_cn, T3, PoissonRegressor(max_iter=200), ' PoisReg_CB ')\n",
    "#performs marginally better"
   ]
  },
  {
   "cell_type": "code",
   "execution_count": 67,
   "id": "9ef8188b",
   "metadata": {},
   "outputs": [
    {
     "name": "stdout",
     "output_type": "stream",
     "text": [
      "R2 train score of LinReg_CB is 0.8073192434464606 AND the R2 test score of LinReg_CB is 0.8059762869044551 AND the RMSE of LinReg_CB is 262.3051402370977 AND the RMSLE of LinReg_CB is 3.1487053210350733\n"
     ]
    }
   ],
   "source": [
    "LinReg_CB = Regressor_testing(Xtrain_cn, ytrain_cn, Xtest_cn, ytest_cn, T3, LinearRegression(), ' LinReg_CB ')\n",
    "#same"
   ]
  },
  {
   "cell_type": "code",
   "execution_count": 68,
   "id": "1221c5ef",
   "metadata": {},
   "outputs": [
    {
     "name": "stdout",
     "output_type": "stream",
     "text": [
      "R2 train score of RF_CB_poly is 0.9617571117684969 AND the R2 test score of RF_CB_poly is 0.8951331767834021 AND the RMSE of RF_CB_poly is 262.24595340443693 AND the RMSLE of RF_CB_poly is 3.1393224460026388\n"
     ]
    }
   ],
   "source": [
    "RF_CB_poly = Regressor_testing(Xtrain_cn, ytrain_cn, Xtest_cn, ytest_cn, T4, RandomForestRegressor(max_depth =20, random_state=0), ' RF_CB_poly ')\n"
   ]
  },
  {
   "cell_type": "markdown",
   "id": "e70841cc",
   "metadata": {},
   "source": [
    "Better than without poly and more accurate, but still not as good as RF above without custom bin"
   ]
  },
  {
   "cell_type": "code",
   "execution_count": 69,
   "id": "9d91c144",
   "metadata": {},
   "outputs": [
    {
     "name": "stdout",
     "output_type": "stream",
     "text": [
      "R2 train score of LinReg_CB_poly is 0.8077485545350103 AND the R2 test score of LinReg_CB_poly is 0.8061637556774409 AND the RMSE of LinReg_CB_poly is 262.30433552666636 AND the RMSLE of LinReg_CB_poly is 3.1484266795865885\n"
     ]
    }
   ],
   "source": [
    "LinReg_CB_poly  = Regressor_testing(Xtrain_cn, ytrain_cn, Xtest_cn, ytest_cn, T4, LinearRegression(), ' LinReg_CB_poly ')\n"
   ]
  },
  {
   "cell_type": "code",
   "execution_count": 70,
   "id": "632a5a96",
   "metadata": {},
   "outputs": [
    {
     "name": "stdout",
     "output_type": "stream",
     "text": [
      "R2 train score of PoisReg_CB_poly is 0.0 AND the R2 test score of PoisReg_CB_poly is -0.00022014838016892746 AND the RMSE of PoisReg_CB_poly is 262.95066268109133 AND the RMSLE of PoisReg_CB_poly is 3.2151097899407\n"
     ]
    },
    {
     "name": "stderr",
     "output_type": "stream",
     "text": [
      "C:\\Users\\alexp\\anaconda3\\lib\\site-packages\\sklearn\\linear_model\\_glm\\link.py:90: RuntimeWarning: overflow encountered in exp\n",
      "  return np.exp(lin_pred)\n",
      "C:\\Users\\alexp\\anaconda3\\lib\\site-packages\\sklearn\\linear_model\\_glm\\link.py:93: RuntimeWarning: overflow encountered in exp\n",
      "  return np.exp(lin_pred)\n",
      "C:\\Users\\alexp\\anaconda3\\lib\\site-packages\\sklearn\\_loss\\glm_distribution.py:132: RuntimeWarning: invalid value encountered in true_divide\n",
      "  return -2 * (y - y_pred) / self.unit_variance(y_pred)\n",
      "C:\\Users\\alexp\\anaconda3\\lib\\site-packages\\sklearn\\_loss\\glm_distribution.py:323: RuntimeWarning: invalid value encountered in add\n",
      "  dev = 2 * (xlogy(y, y / y_pred) - y + y_pred)\n",
      "C:\\Users\\alexp\\anaconda3\\lib\\site-packages\\sklearn\\linear_model\\_glm\\glm.py:323: ConvergenceWarning: lbfgs failed to converge (status=2):\n",
      "ABNORMAL_TERMINATION_IN_LNSRCH.\n",
      "\n",
      "Increase the number of iterations (max_iter) or scale the data as shown in:\n",
      "    https://scikit-learn.org/stable/modules/preprocessing.html\n",
      "  self.n_iter_ = _check_optimize_result(\"lbfgs\", opt_res)\n"
     ]
    }
   ],
   "source": [
    "PoisReg_CB_poly = Regressor_testing(Xtrain_cn, ytrain_cn, Xtest_cn, ytest_cn, T4, PoissonRegressor(max_iter=200), ' PoisReg_CB_poly ')\n"
   ]
  },
  {
   "cell_type": "code",
   "execution_count": 71,
   "id": "b9699709",
   "metadata": {},
   "outputs": [
    {
     "data": {
      "text/plain": [
       "[0.0, 0.0, 262.95066268109133, 3.2151097899407]"
      ]
     },
     "execution_count": 71,
     "metadata": {},
     "output_type": "execute_result"
    }
   ],
   "source": [
    "PoisReg_CB_poly"
   ]
  },
  {
   "cell_type": "markdown",
   "id": "4818be53",
   "metadata": {},
   "source": [
    "Next step: put results in table, compare with split data models, choose best model and deploy in pyscript\n",
    "https://stackoverflow.com/questions/39542432/printing-output-as-a-table-in-python-terminal-and-saving-output-as-a-txt-with-p"
   ]
  },
  {
   "cell_type": "code",
   "execution_count": null,
   "id": "7e5a7255",
   "metadata": {},
   "outputs": [],
   "source": []
  }
 ],
 "metadata": {
  "kernelspec": {
   "display_name": "Python 3 (ipykernel)",
   "language": "python",
   "name": "python3"
  },
  "language_info": {
   "codemirror_mode": {
    "name": "ipython",
    "version": 3
   },
   "file_extension": ".py",
   "mimetype": "text/x-python",
   "name": "python",
   "nbconvert_exporter": "python",
   "pygments_lexer": "ipython3",
   "version": "3.9.7"
  }
 },
 "nbformat": 4,
 "nbformat_minor": 5
}
