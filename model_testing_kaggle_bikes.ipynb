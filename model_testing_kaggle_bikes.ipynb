{
 "cells": [
  {
   "cell_type": "code",
   "execution_count": 9,
   "id": "a95ec2c9",
   "metadata": {},
   "outputs": [],
   "source": [
    "import pandas as pd\n",
    "import numpy as np\n",
    "from sklearn.model_selection import train_test_split\n",
    "\n",
    "#FE\n",
    "from sklearn.preprocessing import OneHotEncoder\n",
    "from sklearn.preprocessing import MinMaxScaler\n",
    "#from sklearn.impute import SimpleImputer #no missing vals\n",
    "from sklearn.preprocessing import KBinsDiscretizer\n",
    "from sklearn.pipeline import Pipeline\n",
    "from sklearn.compose import ColumnTransformer\n",
    "from sklearn.pipeline import make_pipeline\n",
    "from sklearn.preprocessing import FunctionTransformer\n",
    "from sklearn.preprocessing import StandardScaler\n",
    "from sklearn.preprocessing import PolynomialFeatures\n",
    "\n",
    "#regressors\n",
    "from sklearn.linear_model import PoissonRegressor\n",
    "from sklearn.linear_model import LinearRegression\n",
    "from sklearn.ensemble import RandomForestRegressor\n",
    "import xgboost as xgb\n",
    "\n",
    "# Cross validation \n",
    "from sklearn.model_selection import cross_validate\n",
    "from sklearn.model_selection import cross_val_score\n",
    "from sklearn.model_selection import GridSearchCV\n",
    "from sklearn.linear_model import Lasso\n",
    "from sklearn.linear_model import Ridge\n",
    "from sklearn.linear_model import ElasticNet\n",
    "\n",
    "# Scoring metrics\n",
    "from sklearn.metrics import accuracy_score\n",
    "from sklearn.metrics import precision_score\n",
    "from sklearn.metrics import recall_score\n",
    "from sklearn.metrics import f1_score\n",
    "from sklearn.metrics import confusion_matrix\n",
    "from sklearn.metrics import roc_curve, auc\n",
    "from sklearn.metrics import plot_roc_curve, auc, roc_curve\n",
    "from sklearn.metrics import plot_precision_recall_curve\n",
    "from sklearn.metrics import precision_recall_curve\n",
    "from sklearn.metrics import mean_squared_log_error\n",
    "from sklearn.metrics import mean_squared_error\n",
    "\n",
    "#https://www.kaggle.com/competitions/bike-sharing-demand/overview"
   ]
  },
  {
   "cell_type": "code",
   "execution_count": 21,
   "id": "74c6eed5",
   "metadata": {},
   "outputs": [],
   "source": [
    "#pip install xgboost\n",
    "df= pd.read_csv('bike_time_features.csv', index_col=0, parse_dates=True)\n",
    "df_reg = df.drop(['count', 'casual'], axis=1)\n",
    "df_cas = df.drop(['count', 'registered'], axis = 1)"
   ]
  },
  {
   "cell_type": "markdown",
   "id": "a28df1a2",
   "metadata": {},
   "source": [
    "### Train, test, split for different data combos"
   ]
  },
  {
   "cell_type": "markdown",
   "id": "213da0af",
   "metadata": {},
   "source": [
    "Based on the EDA in the other notebooks, this will be done comparing regressors fit on the entire data, and regressors fit on the casual and registered data separately (with overall avg performance as comparison to entire dataset)"
   ]
  },
  {
   "cell_type": "code",
   "execution_count": 22,
   "id": "f47dbfd2",
   "metadata": {},
   "outputs": [],
   "source": [
    "cn_train, cn_test = train_test_split(df, test_size=0.3, random_state=12)\n",
    "rg_train, rg_test = train_test_split(df_reg, test_size=0.3, random_state=12)\n",
    "cs_train, cs_test = train_test_split(df_cas, test_size=0.3, random_state=12)"
   ]
  },
  {
   "cell_type": "code",
   "execution_count": 23,
   "id": "a17d061b",
   "metadata": {},
   "outputs": [],
   "source": [
    "Xtrain_cn = cn_train.drop(columns=['count', 'registered', 'casual'])\n",
    "Xtrain_rg = rg_train.drop(columns=['registered'])\n",
    "Xtrain_cs = cs_train.drop(columns=['casual'])\n",
    "\n",
    "Xtest_cn = cn_test.drop(columns=['count', 'registered', 'casual'])\n",
    "Xtest_rg = rg_test.drop(columns=['registered'])\n",
    "Xtest_cs = cs_test.drop(columns=['casual'])"
   ]
  },
  {
   "cell_type": "code",
   "execution_count": 24,
   "id": "793a6b30",
   "metadata": {},
   "outputs": [],
   "source": [
    "ytrain_cn = cn_train['count']\n",
    "ytrain_rg = rg_train['registered']\n",
    "ytrain_cs = cs_train['casual']\n",
    "\n",
    "ytest_cn = cn_test['count']\n",
    "ytest_rg = rg_test['registered']\n",
    "ytest_cs = cs_test['casual']"
   ]
  },
  {
   "cell_type": "markdown",
   "id": "cb573fc5",
   "metadata": {},
   "source": [
    "Log of y data sets (for RMSLE)"
   ]
  },
  {
   "cell_type": "code",
   "execution_count": 25,
   "id": "52c1eb7a",
   "metadata": {},
   "outputs": [],
   "source": [
    "ytrain_lcn=np.log1p(ytrain_cn)\n",
    "ytest_lcn=np.log1p(ytest_cn)\n",
    "\n",
    "ytrain_lrg=np.log1p(ytrain_rg)\n",
    "ytest_lrg=np.log1p(ytest_rg)\n",
    "\n",
    "ytrain_lcs=np.log1p(ytrain_cs)\n",
    "ytest_lcs=np.log1p(ytest_cs)"
   ]
  },
  {
   "cell_type": "code",
   "execution_count": 27,
   "id": "bc8805d0",
   "metadata": {},
   "outputs": [
    {
     "name": "stdout",
     "output_type": "stream",
     "text": [
      "<class 'pandas.core.frame.DataFrame'>\n",
      "DatetimeIndex: 10886 entries, 2011-01-01 00:00:00 to 2012-12-19 23:00:00\n",
      "Data columns (total 15 columns):\n",
      " #   Column      Non-Null Count  Dtype  \n",
      "---  ------      --------------  -----  \n",
      " 0   season      10886 non-null  int64  \n",
      " 1   holiday     10886 non-null  int64  \n",
      " 2   workingday  10886 non-null  int64  \n",
      " 3   weather     10886 non-null  int64  \n",
      " 4   temp        10886 non-null  float64\n",
      " 5   atemp       10886 non-null  float64\n",
      " 6   humidity    10886 non-null  int64  \n",
      " 7   windspeed   10886 non-null  float64\n",
      " 8   casual      10886 non-null  int64  \n",
      " 9   registered  10886 non-null  int64  \n",
      " 10  count       10886 non-null  int64  \n",
      " 11  hour        10886 non-null  int64  \n",
      " 12  dayofyear   10886 non-null  int64  \n",
      " 13  weekofyear  10886 non-null  int64  \n",
      " 14  weekday     10886 non-null  int64  \n",
      "dtypes: float64(3), int64(12)\n",
      "memory usage: 1.3 MB\n"
     ]
    }
   ],
   "source": [
    "df.info() #for FE menu below"
   ]
  },
  {
   "cell_type": "markdown",
   "id": "63ffa7eb",
   "metadata": {},
   "source": [
    "# Feature Engineering and combinations menu !! "
   ]
  },
  {
   "cell_type": "markdown",
   "id": "e8d9ed49",
   "metadata": {},
   "source": [
    "define numeric and categorical features for pipeline (baseline models- start of simple, going to perform subpar) "
   ]
  },
  {
   "cell_type": "code",
   "execution_count": 30,
   "id": "d74f0839",
   "metadata": {},
   "outputs": [],
   "source": [
    "num_all = [\"temp\",\"humidity\",\"windspeed\", \"atemp\"] #risk overfitting / multico, atemp and temp too close\n",
    "num_t = [\"temp\",\"humidity\",\"windspeed\"]\n",
    "num_at = [\"atemp\",\"humidity\",\"windspeed\"]\n",
    "\n",
    "\n",
    "cat_feat_all = [\"weather\",\"dayofyear\",\"weekofyear\",\"weekday\", 'workingday' , 'holiday' , 'season']"
   ]
  },
  {
   "cell_type": "markdown",
   "id": "0dd4dc30",
   "metadata": {},
   "source": [
    "Avoiding multicollinearity: only one-> week of year / day of year, \n",
    "Notes: humidity slight corr w season and weather (interaction features?) "
   ]
  },
  {
   "cell_type": "markdown",
   "id": "f555e7d7",
   "metadata": {},
   "source": [
    "##### Placeholder pipeline for testing / copy paste"
   ]
  },
  {
   "cell_type": "markdown",
   "id": "d91a8450",
   "metadata": {},
   "source": [
    "transformer = ColumnTransformer([\n",
    "    ('scaler',pipeline_scaler,numeric_features),\n",
    "    ('ohc',pipeline_ohe,categorical_features),\n",
    "    ('poly',PolynomialFeatures(degree= ,interaction_only=True,include_bias=False),numeric_features),\n",
    "    ('pass','passthrough',[])\n",
    "])"
   ]
  },
  {
   "cell_type": "markdown",
   "id": "613876d2",
   "metadata": {},
   "source": [
    "# Model Pipelines (inc. regressors)\n",
    "##### Placeholders"
   ]
  },
  {
   "cell_type": "markdown",
   "id": "6de6edff",
   "metadata": {},
   "source": [
    "pipeline_LR = Pipeline([\n",
    "    ('trans',transformer),\n",
    "    ('model',LinearRegression())\n",
    "])\n",
    "\n",
    "pipeline__RF = Pipeline([\n",
    "    ('trans',transformer),\n",
    "    ('model',RandomForestRegressor(max_depth = 10, random_state=0)) #func for testing on diff depths later..see below\n",
    "])\n",
    "\n",
    "pipeline_PR = Pipeline([\n",
    "    ('trans',transformer),\n",
    "    ('model',PoissonRegressor(max_iter=200)) #func for testing iterations later\n",
    "])"
   ]
  },
  {
   "cell_type": "markdown",
   "id": "963c15aa",
   "metadata": {},
   "source": [
    "# Scoring Metrics\n",
    "aside from accuracy that is..."
   ]
  },
  {
   "cell_type": "markdown",
   "id": "94677176",
   "metadata": {},
   "source": [
    "RMSE: how erroneous is the model performing, depicts absolute error, if high model is quite erroneous...\n",
    "\n",
    "\n",
    "RMSLE: what is the relative error of this model, log transformed values, doesnt penalize error term because of outliers as much, larger penalty for underestimation of y than overestimation (good for business cases, underestimation undesirable) "
   ]
  },
  {
   "cell_type": "code",
   "execution_count": 35,
   "id": "23c6c7c6",
   "metadata": {},
   "outputs": [],
   "source": [
    "def RMSE(y_true, y_pred):\n",
    "    return np.sqrt(mean_squared_error(y_true, y_pred))\n",
    "\n",
    "def RMSLE(y_true, y_pred):\n",
    "    return np.sqrt(mean_squared_log_error(y_true, y_pred))\n",
    "\n",
    "#better just in func below..."
   ]
  },
  {
   "cell_type": "markdown",
   "id": "72d6a9ad",
   "metadata": {},
   "source": [
    "# Function for overview // efficiency! "
   ]
  },
  {
   "cell_type": "markdown",
   "id": "57fa6686",
   "metadata": {},
   "source": [
    "Function for different pipeline models "
   ]
  },
  {
   "cell_type": "code",
   "execution_count": 38,
   "id": "e1c4cceb",
   "metadata": {},
   "outputs": [],
   "source": [
    "def Regressor_testing(Xtrain, ytrainlog, Xtest,ytestlog, ytest, Transformer, Model, Model_name_str):\n",
    "    \n",
    "    '''\n",
    "    Function to easily implement different models and transformers for quick testing\n",
    "    Different transformers, datasets and models can be input to quickly get an overview of results\n",
    "    Transformers should be defined outside of func (poss with other func?)\n",
    "    '''\n",
    "    \n",
    "    pipeline = Pipeline([ ('trans', Transformer), ('model', Model) ])\n",
    "    pipeline.fit(Xtrain,ytrain_log)\n",
    "    ypred = pipeline.predict(Xtest)\n",
    "    \n",
    "    score_train = \"R2 train score of\" + model_name_str + 'is' + pipeline.score(Xtrain, ytrainlog)\n",
    "    score_test = \"R2 test score of\" + model_name_str + 'is' + pipeline.score(Xtest, ytestlog)\n",
    "    \n",
    "    RMSE = \"RMSE of\"+ model_name_str + 'is' +  np.sqrt(mean_squared_error(ytest, ypred)) \n",
    "    RMSLE = \"RMSLE of\"+ model_name_str + 'is' +  np.sqrt(mean_squared_log_error(ytest, ypred)) \n",
    "    \n",
    "    \n",
    "    return (score_train, score_test, RMSE, RMSLE)                        "
   ]
  },
  {
   "cell_type": "markdown",
   "id": "52826c3e",
   "metadata": {},
   "source": [
    "# Baseline Models using function"
   ]
  },
  {
   "cell_type": "code",
   "execution_count": null,
   "id": "f4975f3e",
   "metadata": {},
   "outputs": [],
   "source": []
  },
  {
   "cell_type": "code",
   "execution_count": null,
   "id": "8499b69b",
   "metadata": {},
   "outputs": [],
   "source": []
  },
  {
   "cell_type": "code",
   "execution_count": null,
   "id": "15e913d5",
   "metadata": {},
   "outputs": [],
   "source": []
  },
  {
   "cell_type": "code",
   "execution_count": null,
   "id": "f813d25a",
   "metadata": {},
   "outputs": [],
   "source": []
  },
  {
   "cell_type": "code",
   "execution_count": null,
   "id": "ab0fc75d",
   "metadata": {},
   "outputs": [],
   "source": []
  },
  {
   "cell_type": "code",
   "execution_count": null,
   "id": "fb57d4e2",
   "metadata": {},
   "outputs": [],
   "source": []
  },
  {
   "cell_type": "code",
   "execution_count": null,
   "id": "e44e6873",
   "metadata": {},
   "outputs": [],
   "source": []
  },
  {
   "cell_type": "code",
   "execution_count": null,
   "id": "2ad6cf45",
   "metadata": {},
   "outputs": [],
   "source": []
  },
  {
   "cell_type": "markdown",
   "id": "4dbecc5d",
   "metadata": {},
   "source": [
    "# Regularisation"
   ]
  },
  {
   "cell_type": "markdown",
   "id": "6825a344",
   "metadata": {},
   "source": [
    "# Grid Search "
   ]
  },
  {
   "cell_type": "markdown",
   "id": "a4de6018",
   "metadata": {},
   "source": [
    "# Cross Validation"
   ]
  },
  {
   "cell_type": "code",
   "execution_count": null,
   "id": "bd799d77",
   "metadata": {},
   "outputs": [],
   "source": []
  },
  {
   "cell_type": "code",
   "execution_count": null,
   "id": "63275055",
   "metadata": {},
   "outputs": [],
   "source": []
  },
  {
   "cell_type": "code",
   "execution_count": null,
   "id": "0bf9fca7",
   "metadata": {},
   "outputs": [],
   "source": []
  },
  {
   "cell_type": "code",
   "execution_count": null,
   "id": "d1e2ad4f",
   "metadata": {},
   "outputs": [],
   "source": []
  },
  {
   "cell_type": "code",
   "execution_count": null,
   "id": "ba482173",
   "metadata": {},
   "outputs": [],
   "source": []
  },
  {
   "cell_type": "code",
   "execution_count": null,
   "id": "a061112f",
   "metadata": {},
   "outputs": [],
   "source": []
  },
  {
   "cell_type": "code",
   "execution_count": null,
   "id": "112a2210",
   "metadata": {},
   "outputs": [],
   "source": []
  },
  {
   "cell_type": "code",
   "execution_count": null,
   "id": "20d680d6",
   "metadata": {},
   "outputs": [],
   "source": []
  },
  {
   "cell_type": "code",
   "execution_count": null,
   "id": "3a8f46dd",
   "metadata": {},
   "outputs": [],
   "source": []
  },
  {
   "cell_type": "code",
   "execution_count": null,
   "id": "4cacecee",
   "metadata": {},
   "outputs": [],
   "source": []
  }
 ],
 "metadata": {
  "kernelspec": {
   "display_name": "Python 3 (ipykernel)",
   "language": "python",
   "name": "python3"
  },
  "language_info": {
   "codemirror_mode": {
    "name": "ipython",
    "version": 3
   },
   "file_extension": ".py",
   "mimetype": "text/x-python",
   "name": "python",
   "nbconvert_exporter": "python",
   "pygments_lexer": "ipython3",
   "version": "3.9.7"
  }
 },
 "nbformat": 4,
 "nbformat_minor": 5
}
