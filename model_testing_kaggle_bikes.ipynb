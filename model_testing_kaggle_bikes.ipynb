{
 "cells": [
  {
   "cell_type": "code",
   "execution_count": 1,
   "id": "a1901867",
   "metadata": {},
   "outputs": [],
   "source": [
    "import pandas as pd\n",
    "import numpy as np\n",
    "from sklearn.model_selection import train_test_split\n",
    "\n",
    "#FE\n",
    "from sklearn.preprocessing import OneHotEncoder\n",
    "from sklearn.preprocessing import MinMaxScaler\n",
    "#from sklearn.impute import SimpleImputer #no missing vals\n",
    "from sklearn.preprocessing import KBinsDiscretizer\n",
    "from sklearn.pipeline import Pipeline\n",
    "from sklearn.compose import ColumnTransformer\n",
    "from sklearn.pipeline import make_pipeline\n",
    "from sklearn.preprocessing import FunctionTransformer\n",
    "from sklearn.preprocessing import StandardScaler\n",
    "from sklearn.preprocessing import PolynomialFeatures\n",
    "\n",
    "#regressors\n",
    "from sklearn.linear_model import PoissonRegressor\n",
    "from sklearn.linear_model import LinearRegression\n",
    "from sklearn.ensemble import RandomForestRegressor\n",
    "import xgboost as xgb\n",
    "\n",
    "# Cross validation \n",
    "from sklearn.model_selection import cross_validate\n",
    "from sklearn.model_selection import cross_val_score\n",
    "from sklearn.model_selection import GridSearchCV\n",
    "from sklearn.linear_model import Lasso\n",
    "from sklearn.linear_model import Ridge\n",
    "from sklearn.linear_model import ElasticNet\n",
    "\n",
    "# Scoring metrics\n",
    "from sklearn.metrics import accuracy_score\n",
    "from sklearn.metrics import precision_score\n",
    "from sklearn.metrics import recall_score\n",
    "from sklearn.metrics import f1_score\n",
    "from sklearn.metrics import confusion_matrix\n",
    "from sklearn.metrics import roc_curve, auc\n",
    "from sklearn.metrics import plot_roc_curve, auc, roc_curve\n",
    "from sklearn.metrics import plot_precision_recall_curve\n",
    "from sklearn.metrics import precision_recall_curve\n",
    "from sklearn.metrics import mean_squared_log_error\n",
    "from sklearn.metrics import mean_squared_error\n",
    "\n",
    "#https://www.kaggle.com/competitions/bike-sharing-demand/overview"
   ]
  },
  {
   "cell_type": "code",
   "execution_count": 2,
   "id": "33b1a142",
   "metadata": {},
   "outputs": [],
   "source": [
    "#pip install xgboost\n",
    "df= pd.read_csv('bike_time_features.csv', index_col=0, parse_dates=True)\n",
    "df_reg = df.drop(['count', 'casual'], axis=1)\n",
    "df_cas = df.drop(['count', 'registered'], axis = 1)"
   ]
  },
  {
   "cell_type": "markdown",
   "id": "7f421e84",
   "metadata": {},
   "source": [
    "### Train, test, split for different data combos"
   ]
  },
  {
   "cell_type": "markdown",
   "id": "1dc85631",
   "metadata": {},
   "source": [
    "Based on the EDA in the other notebooks, this will be done comparing regressors fit on the entire data, and regressors fit on the casual and registered data separately (with overall avg performance as comparison to entire dataset)"
   ]
  },
  {
   "cell_type": "code",
   "execution_count": 3,
   "id": "9f53296c",
   "metadata": {},
   "outputs": [],
   "source": [
    "cn_train, cn_test = train_test_split(df, test_size=0.3, random_state=12)\n",
    "rg_train, rg_test = train_test_split(df_reg, test_size=0.3, random_state=12)\n",
    "cs_train, cs_test = train_test_split(df_cas, test_size=0.3, random_state=12)"
   ]
  },
  {
   "cell_type": "code",
   "execution_count": 4,
   "id": "f5ec2839",
   "metadata": {},
   "outputs": [],
   "source": [
    "Xtrain_cn = cn_train.drop(columns=['count', 'registered', 'casual'])\n",
    "Xtrain_rg = rg_train.drop(columns=['registered'])\n",
    "Xtrain_cs = cs_train.drop(columns=['casual'])\n",
    "\n",
    "Xtest_cn = cn_test.drop(columns=['count', 'registered', 'casual'])\n",
    "Xtest_rg = rg_test.drop(columns=['registered'])\n",
    "Xtest_cs = cs_test.drop(columns=['casual'])"
   ]
  },
  {
   "cell_type": "code",
   "execution_count": 5,
   "id": "5c147b28",
   "metadata": {},
   "outputs": [],
   "source": [
    "ytrain_cn = cn_train['count']\n",
    "ytrain_rg = rg_train['registered']\n",
    "ytrain_cs = cs_train['casual']\n",
    "\n",
    "ytest_cn = cn_test['count']\n",
    "ytest_rg = rg_test['registered']\n",
    "ytest_cs = cs_test['casual']"
   ]
  },
  {
   "cell_type": "code",
   "execution_count": 83,
   "id": "7cfc12d2",
   "metadata": {},
   "outputs": [],
   "source": [
    "#df.info() #for FE menu below"
   ]
  },
  {
   "cell_type": "markdown",
   "id": "1dd1ecb4",
   "metadata": {},
   "source": [
    "##### Regressor pipeline placeholders (for visualising whats in function) "
   ]
  },
  {
   "cell_type": "markdown",
   "id": "e3ddf48c",
   "metadata": {},
   "source": [
    "pipeline_LR = Pipeline([\n",
    "    ('trans',transformer),\n",
    "    ('model',LinearRegression())\n",
    "])\n",
    "\n",
    "pipeline__RF = Pipeline([\n",
    "    ('trans',transformer),\n",
    "    ('model',RandomForestRegressor(max_depth = 10, random_state=0)) #func for testing on diff depths later..see below\n",
    "])\n",
    "\n",
    "pipeline_PR = Pipeline([\n",
    "    ('trans',transformer),\n",
    "    ('model',PoissonRegressor(max_iter=200)) #func for testing iterations later\n",
    "])"
   ]
  },
  {
   "cell_type": "markdown",
   "id": "a59d9add",
   "metadata": {},
   "source": [
    "# Scoring Metrics\n",
    "aside from accuracy that is..."
   ]
  },
  {
   "cell_type": "markdown",
   "id": "d26d6649",
   "metadata": {},
   "source": [
    "RMSE: how erroneous is the model performing, depicts absolute error, if high model is quite erroneous...\n",
    "\n",
    "\n",
    "RMSLE: what is the relative error of this model, log transformed values, doesnt penalize error term because of outliers as much, larger penalty for underestimation of y than overestimation (good for business cases, underestimation undesirable) "
   ]
  },
  {
   "cell_type": "markdown",
   "id": "14b18514",
   "metadata": {},
   "source": [
    "# Function for overview // efficiency! "
   ]
  },
  {
   "cell_type": "markdown",
   "id": "a955c2b0",
   "metadata": {},
   "source": [
    "Function for different pipeline models "
   ]
  },
  {
   "cell_type": "code",
   "execution_count": 65,
   "id": "4c562f14",
   "metadata": {},
   "outputs": [],
   "source": [
    "def Regressor_testing(Xtrain, ytrain, Xtest,ytest, Transformer, Model, model_name_str):\n",
    "    \n",
    "    '''\n",
    "    Function to easily implement different models and transformers for quick testing\n",
    "    Different transformers, datasets and models can be input to quickly get an overview of results\n",
    "    Transformers should be defined outside of func (poss with other func?)\n",
    "    '''\n",
    "    ytrainlog = np.log1p(ytrain)\n",
    "    ytestlog = np.log1p(ytest)\n",
    "    \n",
    "    pipeline = Pipeline([ ('trans', Transformer), ('model', Model) ])\n",
    "    pipeline.fit(Xtrain, ytrainlog)\n",
    "    ypred = pipeline.predict(Xtest)\n",
    "    \n",
    "    score_train = \"R2 train score of\" + model_name_str + 'is ' + str(pipeline.score(Xtrain, ytrainlog))\n",
    "    score_test = \"R2 test score of\" + model_name_str + 'is ' + str(pipeline.score(Xtest, ytestlog))\n",
    "    \n",
    "    RMSE = \"RMSE of\"+ model_name_str + 'is ' +  str(np.sqrt(mean_squared_error(ytest, ypred))) \n",
    "    RMSLE = \"RMSLE of\"+ model_name_str + 'is ' +  str(np.sqrt(mean_squared_log_error(ytest, ypred))) \n",
    "    \n",
    "    \n",
    "    return (score_train, score_test, RMSE, RMSLE)                        "
   ]
  },
  {
   "cell_type": "markdown",
   "id": "91442afe",
   "metadata": {},
   "source": [
    "## Different pipelines to be used in transformers"
   ]
  },
  {
   "cell_type": "code",
   "execution_count": 66,
   "id": "d9297298",
   "metadata": {},
   "outputs": [
    {
     "data": {
      "text/plain": [
       "('pass', 'passthrough', [])"
      ]
     },
     "execution_count": 66,
     "metadata": {},
     "output_type": "execute_result"
    }
   ],
   "source": [
    "pipeline_scaler = Pipeline([\n",
    "            ('Scaler', StandardScaler())\n",
    "])\n",
    "\n",
    "pipeline_ohe = Pipeline([\n",
    "            ('ohe', OneHotEncoder(handle_unknown=\"ignore\"))\n",
    "])\n",
    "\n",
    "#cols to keep the same and use in model\n",
    "#('pass', 'passthrough', [])\n",
    "\n",
    "#custom func\n",
    "#('', FunctionTransformer(), ['relevant_col'])"
   ]
  },
  {
   "cell_type": "markdown",
   "id": "0e4efe18",
   "metadata": {},
   "source": [
    "# Baseline Models (lin reg and entire dataset) "
   ]
  },
  {
   "cell_type": "markdown",
   "id": "573b6325",
   "metadata": {},
   "source": [
    "### Models using basically all features with different engineering combos"
   ]
  },
  {
   "cell_type": "markdown",
   "id": "d8ccc3bc",
   "metadata": {},
   "source": [
    "#### Model 1: most simple,two trials (one with temp, one with atemp), and all relevant cat feats, NO polynomials"
   ]
  },
  {
   "cell_type": "code",
   "execution_count": 68,
   "id": "d670d0f4",
   "metadata": {},
   "outputs": [],
   "source": [
    "#FE\n",
    "cat_feat1 = ['hour', 'weekofyear', 'weather'] #OHE \n",
    "\n",
    "num_feat1a = ['atemp', 'humidity', 'windspeed' ]\n",
    "\n",
    "num_feat1b = ['temp', 'humidity', 'windspeed' ]"
   ]
  },
  {
   "cell_type": "code",
   "execution_count": 69,
   "id": "a42fc03e",
   "metadata": {},
   "outputs": [],
   "source": [
    "#transformer\n",
    "T1 = ColumnTransformer([\n",
    "    ('scaler',pipeline_scaler,num_feat1a),\n",
    "    ('ohc',pipeline_ohe,cat_feat1)])"
   ]
  },
  {
   "cell_type": "code",
   "execution_count": 70,
   "id": "aedff73b",
   "metadata": {},
   "outputs": [
    {
     "data": {
      "text/plain": [
       "('R2 train score of LinRegM1 is 0.8062386884181659',\n",
       " 'R2 test score of LinRegM1 is 0.8044214096982655',\n",
       " 'RMSE of LinRegM1 is 262.3054225839597',\n",
       " 'RMSLE of LinRegM1 is 3.1489362688705955')"
      ]
     },
     "execution_count": 70,
     "metadata": {},
     "output_type": "execute_result"
    }
   ],
   "source": [
    "#model a output\n",
    "Regressor_testing(Xtrain_cn, ytrain_cn, Xtest_cn, ytest_cn, T1, LinearRegression(), ' LinRegM1 ')"
   ]
  },
  {
   "cell_type": "code",
   "execution_count": 71,
   "id": "bb46dc4f",
   "metadata": {},
   "outputs": [],
   "source": [
    "#model b output\n",
    "T1b = ColumnTransformer([\n",
    "    ('scaler',pipeline_scaler,num_feat1b),\n",
    "    ('ohc',pipeline_ohe,cat_feat1)])"
   ]
  },
  {
   "cell_type": "code",
   "execution_count": 72,
   "id": "00d11590",
   "metadata": {},
   "outputs": [
    {
     "data": {
      "text/plain": [
       "('R2 train score of LinRegM1b is 0.8063357052293839',\n",
       " 'R2 test score of LinRegM1b is 0.8048731773556155',\n",
       " 'RMSE of LinRegM1b is 262.3049695348988',\n",
       " 'RMSLE of LinRegM1b is 3.1489682458412047')"
      ]
     },
     "execution_count": 72,
     "metadata": {},
     "output_type": "execute_result"
    }
   ],
   "source": [
    "#model a output\n",
    "Regressor_testing(Xtrain_cn, ytrain_cn, Xtest_cn, ytest_cn, T1b, LinearRegression(), ' LinRegM1b ')"
   ]
  },
  {
   "cell_type": "code",
   "execution_count": 75,
   "id": "5b126838",
   "metadata": {},
   "outputs": [],
   "source": [
    "#with holiday and working day (forgot pass through statement above)\n",
    "T1_b = ColumnTransformer([\n",
    "    ('scaler',pipeline_scaler,num_feat1b),\n",
    "    ('ohc',pipeline_ohe,cat_feat1),\n",
    "    ('pass','passthrough',['holiday','workingday']) #already OHE..try adding in cat in next anyways? \n",
    "])"
   ]
  },
  {
   "cell_type": "code",
   "execution_count": 76,
   "id": "541338f3",
   "metadata": {},
   "outputs": [
    {
     "data": {
      "text/plain": [
       "('R2 train score of LinRegM1b is 0.8063357052293839',\n",
       " 'R2 test score of LinRegM1b is 0.8048731773556155',\n",
       " 'RMSE of LinRegM1b is 262.3049695348988',\n",
       " 'RMSLE of LinRegM1b is 3.1489682458412047')"
      ]
     },
     "execution_count": 76,
     "metadata": {},
     "output_type": "execute_result"
    }
   ],
   "source": [
    "Regressor_testing(Xtrain_cn, ytrain_cn, Xtest_cn, ytest_cn, T1b, LinearRegression(), ' LinRegM1b ') #same in anycase"
   ]
  },
  {
   "cell_type": "markdown",
   "id": "3d3cefc8",
   "metadata": {},
   "source": [
    "Test score slightly higher for b, RMSE and RMSLE v close, so use temp from now on probs "
   ]
  },
  {
   "cell_type": "markdown",
   "id": "a1840f84",
   "metadata": {},
   "source": [
    "#### Model 2: same as above with polynomial features (all numeric)"
   ]
  },
  {
   "cell_type": "code",
   "execution_count": 78,
   "id": "c6c7aa87",
   "metadata": {},
   "outputs": [],
   "source": [
    "cat_feat2 = ['hour', 'weekofyear', 'weather', 'holiday', 'workingday'] \n",
    "\n",
    "num_feat2 = ['temp', 'humidity', 'windspeed' ]\n",
    "\n",
    "poly_feat2 = ['temp', 'humidity', 'windspeed' ]"
   ]
  },
  {
   "cell_type": "code",
   "execution_count": 81,
   "id": "73c96e9c",
   "metadata": {},
   "outputs": [],
   "source": [
    "T2 = ColumnTransformer([\n",
    "    ('scaler',pipeline_scaler,num_feat2),\n",
    "    ('ohc',pipeline_ohe,cat_feat2),\n",
    "    ('poly',PolynomialFeatures(degree=5,interaction_only=True,include_bias=False),poly_feat2)\n",
    "])"
   ]
  },
  {
   "cell_type": "code",
   "execution_count": 82,
   "id": "98baee5b",
   "metadata": {},
   "outputs": [
    {
     "data": {
      "text/plain": [
       "('R2 train score of LinRegM2 is 0.8076964880392206',\n",
       " 'R2 test score of LinRegM2 is 0.8063047310573082',\n",
       " 'RMSE of LinRegM2 is 262.3042491284425',\n",
       " 'RMSLE of LinRegM2 is 3.148391018028354')"
      ]
     },
     "execution_count": 82,
     "metadata": {},
     "output_type": "execute_result"
    }
   ],
   "source": [
    "Regressor_testing(Xtrain_cn, ytrain_cn, Xtest_cn, ytest_cn, T2, LinearRegression(), ' LinRegM2 ')"
   ]
  },
  {
   "cell_type": "markdown",
   "id": "edc530f9",
   "metadata": {},
   "source": [
    "R scores better, RMSE and RMSLE same"
   ]
  },
  {
   "cell_type": "markdown",
   "id": "6d1bd364",
   "metadata": {},
   "source": [
    "#### Model 3: same as above with some interaction features"
   ]
  },
  {
   "cell_type": "code",
   "execution_count": null,
   "id": "e2cfe54b",
   "metadata": {},
   "outputs": [],
   "source": []
  },
  {
   "cell_type": "code",
   "execution_count": null,
   "id": "583fe116",
   "metadata": {},
   "outputs": [],
   "source": []
  },
  {
   "cell_type": "code",
   "execution_count": null,
   "id": "2aa6adf5",
   "metadata": {},
   "outputs": [],
   "source": []
  },
  {
   "cell_type": "code",
   "execution_count": null,
   "id": "3a2926d5",
   "metadata": {},
   "outputs": [],
   "source": []
  },
  {
   "cell_type": "markdown",
   "id": "83874cef",
   "metadata": {},
   "source": [
    "Add into func: regularisation, grid search and cross val"
   ]
  },
  {
   "cell_type": "code",
   "execution_count": null,
   "id": "4c722249",
   "metadata": {},
   "outputs": [],
   "source": []
  },
  {
   "cell_type": "code",
   "execution_count": null,
   "id": "22a689e6",
   "metadata": {},
   "outputs": [],
   "source": []
  },
  {
   "cell_type": "code",
   "execution_count": null,
   "id": "587988f6",
   "metadata": {},
   "outputs": [],
   "source": []
  },
  {
   "cell_type": "code",
   "execution_count": null,
   "id": "9235dfcd",
   "metadata": {},
   "outputs": [],
   "source": []
  },
  {
   "cell_type": "code",
   "execution_count": null,
   "id": "804b23e0",
   "metadata": {},
   "outputs": [],
   "source": []
  },
  {
   "cell_type": "code",
   "execution_count": null,
   "id": "9ef8188b",
   "metadata": {},
   "outputs": [],
   "source": []
  },
  {
   "cell_type": "code",
   "execution_count": null,
   "id": "1221c5ef",
   "metadata": {},
   "outputs": [],
   "source": []
  },
  {
   "cell_type": "code",
   "execution_count": null,
   "id": "9d91c144",
   "metadata": {},
   "outputs": [],
   "source": []
  },
  {
   "cell_type": "code",
   "execution_count": null,
   "id": "632a5a96",
   "metadata": {},
   "outputs": [],
   "source": []
  },
  {
   "cell_type": "code",
   "execution_count": null,
   "id": "f7b221f6",
   "metadata": {},
   "outputs": [],
   "source": []
  }
 ],
 "metadata": {
  "kernelspec": {
   "display_name": "Python 3 (ipykernel)",
   "language": "python",
   "name": "python3"
  },
  "language_info": {
   "codemirror_mode": {
    "name": "ipython",
    "version": 3
   },
   "file_extension": ".py",
   "mimetype": "text/x-python",
   "name": "python",
   "nbconvert_exporter": "python",
   "pygments_lexer": "ipython3",
   "version": "3.9.7"
  }
 },
 "nbformat": 4,
 "nbformat_minor": 5
}
