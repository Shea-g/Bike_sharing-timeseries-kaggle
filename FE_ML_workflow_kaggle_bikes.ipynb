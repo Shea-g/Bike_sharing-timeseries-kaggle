{
 "cells": [
  {
   "cell_type": "code",
   "execution_count": 6,
   "id": "ba2e2f57",
   "metadata": {},
   "outputs": [],
   "source": [
    "import pandas as pd\n",
    "import numpy as np\n",
    "from sklearn.model_selection import train_test_split\n",
    "\n",
    "#FE\n",
    "from sklearn.preprocessing import OneHotEncoder\n",
    "from sklearn.preprocessing import MinMaxScaler\n",
    "from sklearn.impute import SimpleImputer\n",
    "from sklearn.preprocessing import KBinsDiscretizer\n",
    "from sklearn.pipeline import Pipeline\n",
    "from sklearn.compose import ColumnTransformer\n",
    "from sklearn.pipeline import make_pipeline\n",
    "from sklearn.preprocessing import FunctionTransformer\n",
    "from sklearn.preprocessing import StandardScaler\n",
    "from sklearn.preprocessing import PolynomialFeatures\n",
    "\n",
    "#regressors\n",
    "from sklearn.linear_model import PoissonRegressor\n",
    "from sklearn.linear_model import LinearRegression\n",
    "from sklearn.ensemble import RandomForestRegressor\n",
    "import xgboost as xgb\n",
    "\n",
    "# Cross validation \n",
    "from sklearn.model_selection import cross_validate\n",
    "from sklearn.model_selection import cross_val_score\n",
    "from sklearn.model_selection import GridSearchCV\n",
    "from sklearn.linear_model import Lasso\n",
    "from sklearn.linear_model import Ridge\n",
    "from sklearn.linear_model import ElasticNet\n",
    "\n",
    "# Scoring metrics\n",
    "from sklearn.metrics import accuracy_score\n",
    "from sklearn.metrics import precision_score\n",
    "from sklearn.metrics import recall_score\n",
    "from sklearn.metrics import f1_score\n",
    "from sklearn.metrics import confusion_matrix\n",
    "from sklearn.metrics import roc_curve, auc\n",
    "from sklearn.metrics import plot_roc_curve, auc, roc_curve\n",
    "from sklearn.metrics import plot_precision_recall_curve\n",
    "from sklearn.metrics import precision_recall_curve\n",
    "from sklearn.metrics import mean_squared_log_error\n",
    "from sklearn.metrics import mean_squared_error"
   ]
  },
  {
   "cell_type": "code",
   "execution_count": 8,
   "id": "1a27056a",
   "metadata": {},
   "outputs": [],
   "source": [
    "#pip install xgboost\n",
    "df= pd.read_csv('train.csv', index_col=0, parse_dates=True)\n",
    "df_reg = df.drop(['count', 'casual'], axis=1)\n",
    "df_cas = df.drop(['count', 'registered'], axis = 1)"
   ]
  },
  {
   "cell_type": "markdown",
   "id": "a26fa82d",
   "metadata": {},
   "source": [
    "### Train, test, split for different data combos"
   ]
  },
  {
   "cell_type": "code",
   "execution_count": null,
   "id": "9905bb4f",
   "metadata": {},
   "outputs": [],
   "source": [
    "cn_train, cn_test = train_test_split(df, test_size=0.3, random_state=12)\n",
    "rg_train, rg_test = train_test_split(df_reg, test_size=0.3, random_state=12)\n",
    "cs_train, cs_test = train_test_split(df_cas, test_size=0.3, random_state=12)"
   ]
  },
  {
   "cell_type": "code",
   "execution_count": null,
   "id": "600c9fe6",
   "metadata": {},
   "outputs": [],
   "source": [
    "Xtrain_cn = cn_train.drop(columns=['count', 'registered', 'casual'])\n",
    "Xtrain_rg = rg_train.drop(columns=['registered'])\n",
    "Xtrain_cs = cs_train.drop(columns=['casual'])"
   ]
  },
  {
   "cell_type": "markdown",
   "id": "55d7c579",
   "metadata": {},
   "source": [
    "Log of y data sets (based on kaggle advise)"
   ]
  },
  {
   "cell_type": "code",
   "execution_count": null,
   "id": "ad6ab22a",
   "metadata": {},
   "outputs": [],
   "source": [
    "y_train_log=np.log1p(ytrain)\n",
    "y_test_log=np.log1p(ytest)"
   ]
  },
  {
   "cell_type": "code",
   "execution_count": null,
   "id": "dfe00dec",
   "metadata": {},
   "outputs": [],
   "source": []
  },
  {
   "cell_type": "code",
   "execution_count": null,
   "id": "04bee670",
   "metadata": {},
   "outputs": [],
   "source": [
    "numeric_features = [\"temp\",\"humidity\",\"windspeed\"]\n",
    "categorical_features = [\"weather\",\"month\",\"day\",\"year\",\"hour\"]"
   ]
  },
  {
   "cell_type": "code",
   "execution_count": null,
   "id": "2cda8fd3",
   "metadata": {},
   "outputs": [],
   "source": []
  },
  {
   "cell_type": "markdown",
   "id": "155e353a",
   "metadata": {},
   "source": [
    "# Feature Engineering Menu !! "
   ]
  },
  {
   "cell_type": "code",
   "execution_count": null,
   "id": "f7a8b9ce",
   "metadata": {},
   "outputs": [],
   "source": []
  },
  {
   "cell_type": "code",
   "execution_count": null,
   "id": "03395a2b",
   "metadata": {},
   "outputs": [],
   "source": []
  },
  {
   "cell_type": "code",
   "execution_count": null,
   "id": "081dbcb2",
   "metadata": {},
   "outputs": [],
   "source": []
  },
  {
   "cell_type": "code",
   "execution_count": null,
   "id": "d19c4e1c",
   "metadata": {},
   "outputs": [],
   "source": []
  },
  {
   "cell_type": "markdown",
   "id": "9ee1919e",
   "metadata": {},
   "source": [
    "# Feature Combinations menu !!"
   ]
  },
  {
   "cell_type": "markdown",
   "id": "3ac05b76",
   "metadata": {},
   "source": [
    "Weather / numeric var combos"
   ]
  },
  {
   "cell_type": "markdown",
   "id": "8ae4261a",
   "metadata": {},
   "source": [
    "Time /cat var combos"
   ]
  },
  {
   "cell_type": "code",
   "execution_count": null,
   "id": "95bca4dc",
   "metadata": {},
   "outputs": [],
   "source": []
  },
  {
   "cell_type": "code",
   "execution_count": null,
   "id": "928dd814",
   "metadata": {},
   "outputs": [],
   "source": []
  },
  {
   "cell_type": "code",
   "execution_count": null,
   "id": "6b9850b2",
   "metadata": {},
   "outputs": [],
   "source": []
  },
  {
   "cell_type": "markdown",
   "id": "1b51234b",
   "metadata": {},
   "source": [
    "Regressors!"
   ]
  },
  {
   "cell_type": "markdown",
   "id": "2c97360e",
   "metadata": {},
   "source": [
    "Scoring Metrics"
   ]
  },
  {
   "cell_type": "code",
   "execution_count": null,
   "id": "60ea9abd",
   "metadata": {},
   "outputs": [],
   "source": []
  }
 ],
 "metadata": {
  "kernelspec": {
   "display_name": "Python 3 (ipykernel)",
   "language": "python",
   "name": "python3"
  },
  "language_info": {
   "codemirror_mode": {
    "name": "ipython",
    "version": 3
   },
   "file_extension": ".py",
   "mimetype": "text/x-python",
   "name": "python",
   "nbconvert_exporter": "python",
   "pygments_lexer": "ipython3",
   "version": "3.9.7"
  }
 },
 "nbformat": 4,
 "nbformat_minor": 5
}
